{
 "cells": [
  {
   "cell_type": "markdown",
   "metadata": {},
   "source": [
    "# Projeto 1 - Ciência dos Dados"
   ]
  },
  {
   "cell_type": "markdown",
   "metadata": {},
   "source": [
    "Nome: Ralph Michaan\n",
    "\n",
    "Nome: Fábio Ferreira"
   ]
  },
  {
   "cell_type": "markdown",
   "metadata": {},
   "source": [
    "**Atenção:** Serão permitidos grupos de três pessoas, mas com uma rubrica mais exigente. Grupos deste tamanho precisarão fazer um questionário de avaliação de trabalho em equipe"
   ]
  },
  {
   "cell_type": "markdown",
   "metadata": {},
   "source": [
    "___\n",
    "Carregando algumas bibliotecas:"
   ]
  },
  {
   "cell_type": "code",
   "execution_count": 79,
   "metadata": {},
   "outputs": [],
   "source": [
    "%matplotlib inline\n",
    "from emoji import UNICODE_EMOJI\n",
    "import pandas as pd\n",
    "import matplotlib.pyplot as plt\n",
    "import numpy as np\n",
    "from math import *"
   ]
  },
  {
   "cell_type": "markdown",
   "metadata": {},
   "source": [
    "**Em `filename`, coloque o nome do seu arquivo de dados!**"
   ]
  },
  {
   "cell_type": "code",
   "execution_count": 80,
   "metadata": {
    "scrolled": false
   },
   "outputs": [
    {
     "name": "stdout",
     "output_type": "stream",
     "text": [
      "Encontrei o arquivo iPhone.xlsx, tudo certo para prosseguir com a prova!\n"
     ]
    }
   ],
   "source": [
    "import os\n",
    "\n",
    "filename = 'iPhone.xlsx'\n",
    "if filename in os.listdir():\n",
    "    print(f'Encontrei o arquivo {filename}, tudo certo para prosseguir com a prova!')\n",
    "else:\n",
    "    print(f'Não encontrei o arquivo {filename} aqui no diretório {os.getcwd()}, será que você não baixou o arquivo?')"
   ]
  },
  {
   "cell_type": "markdown",
   "metadata": {},
   "source": [
    "Carregando a base de dados com os tweets classificados como relevantes e não relevantes:"
   ]
  },
  {
   "cell_type": "code",
   "execution_count": 81,
   "metadata": {},
   "outputs": [
    {
     "data": {
      "text/html": [
       "<div>\n",
       "<style scoped>\n",
       "    .dataframe tbody tr th:only-of-type {\n",
       "        vertical-align: middle;\n",
       "    }\n",
       "\n",
       "    .dataframe tbody tr th {\n",
       "        vertical-align: top;\n",
       "    }\n",
       "\n",
       "    .dataframe thead th {\n",
       "        text-align: right;\n",
       "    }\n",
       "</style>\n",
       "<table border=\"1\" class=\"dataframe\">\n",
       "  <thead>\n",
       "    <tr style=\"text-align: right;\">\n",
       "      <th></th>\n",
       "      <th>Treinamento</th>\n",
       "      <th>Classificação</th>\n",
       "    </tr>\n",
       "  </thead>\n",
       "  <tbody>\n",
       "    <tr>\n",
       "      <td>0</td>\n",
       "      <td>feliz pelo iphone 11 mas o iphone 10 mds é mui...</td>\n",
       "      <td>0</td>\n",
       "    </tr>\n",
       "    <tr>\n",
       "      <td>1</td>\n",
       "      <td>quando eu estiver comprando o iphone 11 pro ma...</td>\n",
       "      <td>1</td>\n",
       "    </tr>\n",
       "    <tr>\n",
       "      <td>2</td>\n",
       "      <td>não consegui comprar o iphone 11,imagina o 14</td>\n",
       "      <td>1</td>\n",
       "    </tr>\n",
       "    <tr>\n",
       "      <td>3</td>\n",
       "      <td>graças a deus vou compra meu iphone 11 pro max 🤩</td>\n",
       "      <td>1</td>\n",
       "    </tr>\n",
       "    <tr>\n",
       "      <td>4</td>\n",
       "      <td>gente, qual a diferença pro iphone 11? kkkkkkk...</td>\n",
       "      <td>1</td>\n",
       "    </tr>\n",
       "  </tbody>\n",
       "</table>\n",
       "</div>"
      ],
      "text/plain": [
       "                                         Treinamento  Classificação\n",
       "0  feliz pelo iphone 11 mas o iphone 10 mds é mui...              0\n",
       "1  quando eu estiver comprando o iphone 11 pro ma...              1\n",
       "2      não consegui comprar o iphone 11,imagina o 14              1\n",
       "3   graças a deus vou compra meu iphone 11 pro max 🤩              1\n",
       "4  gente, qual a diferença pro iphone 11? kkkkkkk...              1"
      ]
     },
     "execution_count": 81,
     "metadata": {},
     "output_type": "execute_result"
    }
   ],
   "source": [
    "train = pd.read_excel(filename, sheet_name = 'Treinamento')\n",
    "train.head(5)"
   ]
  },
  {
   "cell_type": "code",
   "execution_count": 82,
   "metadata": {},
   "outputs": [
    {
     "data": {
      "text/html": [
       "<div>\n",
       "<style scoped>\n",
       "    .dataframe tbody tr th:only-of-type {\n",
       "        vertical-align: middle;\n",
       "    }\n",
       "\n",
       "    .dataframe tbody tr th {\n",
       "        vertical-align: top;\n",
       "    }\n",
       "\n",
       "    .dataframe thead th {\n",
       "        text-align: right;\n",
       "    }\n",
       "</style>\n",
       "<table border=\"1\" class=\"dataframe\">\n",
       "  <thead>\n",
       "    <tr style=\"text-align: right;\">\n",
       "      <th></th>\n",
       "      <th>Teste</th>\n",
       "      <th>Relevância</th>\n",
       "    </tr>\n",
       "  </thead>\n",
       "  <tbody>\n",
       "    <tr>\n",
       "      <td>0</td>\n",
       "      <td>@hyzerfps iphone 11 = fogao de 3 bocas\\niphone...</td>\n",
       "      <td>0</td>\n",
       "    </tr>\n",
       "    <tr>\n",
       "      <td>1</td>\n",
       "      <td>@sirmaykon @uourah kkkkkkkkkkkkkkkkkkkkkk tem ...</td>\n",
       "      <td>0</td>\n",
       "    </tr>\n",
       "    <tr>\n",
       "      <td>2</td>\n",
       "      <td>@cnnbrbusiness @cnnbrasil por isso o mundo tá ...</td>\n",
       "      <td>0</td>\n",
       "    </tr>\n",
       "    <tr>\n",
       "      <td>3</td>\n",
       "      <td>rt @k3viyn: #appleevent esperando o iphone 12 ...</td>\n",
       "      <td>0</td>\n",
       "    </tr>\n",
       "    <tr>\n",
       "      <td>4</td>\n",
       "      <td>é meus amigos, que fase! troquei gramado por u...</td>\n",
       "      <td>1</td>\n",
       "    </tr>\n",
       "  </tbody>\n",
       "</table>\n",
       "</div>"
      ],
      "text/plain": [
       "                                               Teste  Relevância\n",
       "0  @hyzerfps iphone 11 = fogao de 3 bocas\\niphone...           0\n",
       "1  @sirmaykon @uourah kkkkkkkkkkkkkkkkkkkkkk tem ...           0\n",
       "2  @cnnbrbusiness @cnnbrasil por isso o mundo tá ...           0\n",
       "3  rt @k3viyn: #appleevent esperando o iphone 12 ...           0\n",
       "4  é meus amigos, que fase! troquei gramado por u...           1"
      ]
     },
     "execution_count": 82,
     "metadata": {},
     "output_type": "execute_result"
    }
   ],
   "source": [
    "test = pd.read_excel(filename, sheet_name = 'Teste')\n",
    "test.head(5)"
   ]
  },
  {
   "cell_type": "markdown",
   "metadata": {},
   "source": [
    "___\n",
    "## Classificador automático de sentimento\n"
   ]
  },
  {
   "cell_type": "markdown",
   "metadata": {},
   "source": [
    "Faça aqui uma descrição do seu produto e o que considerou como relevante ou não relevante na classificação dos tweets.\n",
    "\n",
    "Nosso produto é um smartphone da Apple, lançado em setembro de 2019, por um preço um pouco mais baixo que suas variantes mais parrudas.\n",
    "\n",
    "Consideramos relevante os tweets em que havia algum feedback sobre o produto, ou se a pessoa tinha vontade de ter, já os desconsiderados foram as piadas feitas com o valor, e os tweets que não se tratavam do iPhone 11 propriamente dito."
   ]
  },
  {
   "cell_type": "markdown",
   "metadata": {},
   "source": [
    "___\n",
    "### Montando um Classificador Naive-Bayes\n",
    "\n",
    "Considerando apenas as mensagens da planilha Treinamento, ensine  seu classificador."
   ]
  },
  {
   "cell_type": "markdown",
   "metadata": {},
   "source": [
    "Limpando os tweets e pegando as frequências absolutas e relativas:"
   ]
  },
  {
   "cell_type": "code",
   "execution_count": 83,
   "metadata": {},
   "outputs": [],
   "source": [
    "import re\n",
    "\n",
    "def is_emoji(s):\n",
    "    return s in UNICODE_EMOJI\n",
    "\n",
    "def cleanup(text):\n",
    "    \"\"\"\n",
    "        Função de limpeza muito simples que troca alguns sinais básicos por espaços\n",
    "    \"\"\"\n",
    "    #import string\n",
    "    punctuation = '[!-.:?;]' # Note que os sinais [] são delimitadores de um conjunto.\n",
    "    pattern = re.compile(punctuation)\n",
    "    text_subbed = re.sub(pattern, '', text)\n",
    "    text_subbed = re.sub('https', \"\", text_subbed)\n",
    "    text_subbed = re.sub('\\n', '', text_subbed)\n",
    "    text_subbed = ''.join(' ' + char + ' ' if is_emoji(char) else char for char in text_subbed).strip()\n",
    "    return text_subbed\n",
    "\n",
    "\n",
    "def is_emoji(s):\n",
    "    return s in UNICODE_EMOJI\n"
   ]
  },
  {
   "cell_type": "markdown",
   "metadata": {},
   "source": [
    "Dos tweets relevantes:"
   ]
  },
  {
   "cell_type": "code",
   "execution_count": 84,
   "metadata": {},
   "outputs": [
    {
     "data": {
      "text/plain": [
       "1      quando eu estiver comprando o iphone 11 pro ma...\n",
       "2           não consegui comprar o iphone 11imagina o 14\n",
       "3      graças a deus vou compra meu iphone 11 pro max  🤩\n",
       "4      gente qual a diferença pro iphone 11 kkkkkkkk ...\n",
       "7      @ginghinni7 @conservadorarv melhor do que comp...\n",
       "                             ...                        \n",
       "492    rt @juh_santos14 troco minha amiga por um ipho...\n",
       "493          @rodsal200 um iphone 11 tá mais cara q isso\n",
       "494    contando os dias pra pegar meu iphone 11 😍  😍 ...\n",
       "495    rt @vick_417 e eu que quase comprei o iphone 1...\n",
       "498    @wulfs1ghs ᅟᅟᅟ   ⠀/entrega uma caixa do iphone...\n",
       "Name: Treinamento, Length: 233, dtype: object"
      ]
     },
     "execution_count": 84,
     "metadata": {},
     "output_type": "execute_result"
    }
   ],
   "source": [
    "train_rel_clean = train.loc[train[\"Classificação\"] == 1, 'Treinamento'].apply(cleanup)\n",
    "train_rel_clean"
   ]
  },
  {
   "cell_type": "code",
   "execution_count": 85,
   "metadata": {},
   "outputs": [
    {
     "data": {
      "text/plain": [
       "0          quando\n",
       "1              eu\n",
       "2         estiver\n",
       "3       comprando\n",
       "4               o\n",
       "          ...    \n",
       "4280           um\n",
       "4281          ceo\n",
       "4282        legal\n",
       "4283          ᅟᅟᅟ\n",
       "4284            ⠀\n",
       "Length: 4285, dtype: object"
      ]
     },
     "execution_count": 85,
     "metadata": {},
     "output_type": "execute_result"
    }
   ],
   "source": [
    "train_rel_clean.astype(str)\n",
    "train_rel_lower = train_rel_clean.str.lower()\n",
    "train_rel = train_rel_lower.str.split()\n",
    "\n",
    "\n",
    "train_rel_lista = []\n",
    "\n",
    "for palavras in train_rel:\n",
    "    train_rel_lista += palavras\n",
    "serie_train_rel = pd.Series(train_rel_lista)\n",
    "serie_train_rel"
   ]
  },
  {
   "cell_type": "code",
   "execution_count": 86,
   "metadata": {},
   "outputs": [
    {
     "data": {
      "text/plain": [
       "iphone     255\n",
       "11         228\n",
       "o          179\n",
       "um         122\n",
       "eu          83\n",
       "          ... \n",
       "—            1\n",
       "saúde        1\n",
       "monte        1\n",
       "boa          1\n",
       "demorei      1\n",
       "Length: 1257, dtype: int64"
      ]
     },
     "execution_count": 86,
     "metadata": {},
     "output_type": "execute_result"
    }
   ],
   "source": [
    "serie_train_rel_absoluta = serie_train_rel.value_counts()\n",
    "serie_train_rel_absoluta"
   ]
  },
  {
   "cell_type": "markdown",
   "metadata": {},
   "source": [
    "E dos irrelevantes:"
   ]
  },
  {
   "cell_type": "code",
   "execution_count": 87,
   "metadata": {},
   "outputs": [
    {
     "data": {
      "text/plain": [
       "0      feliz pelo iphone 11 mas o iphone 10 mds é mui...\n",
       "5      fui aí à dois anos quando ofereci um iphone 11...\n",
       "6      gosto muito do conceito do pobre com macbook p...\n",
       "9      @gab_neres ce pedia meu rg pra ir no motel e e...\n",
       "10     apareceu uma msg pro luan no google dizendo qu...\n",
       "                             ...                        \n",
       "490    eu só preciso saber quanto vai valer o iphone ...\n",
       "491    um apoiador das causas da comunidade lgbtq pra...\n",
       "496    e nem vou comentar o “comunistas” e o “anti ca...\n",
       "497    rt @rannasoareez comprei o iphone 11 e aí inve...\n",
       "499    preciso de um telefone novo alguém me dá um ip...\n",
       "Name: Treinamento, Length: 267, dtype: object"
      ]
     },
     "execution_count": 87,
     "metadata": {},
     "output_type": "execute_result"
    }
   ],
   "source": [
    "train_irrel_clean = train.loc[train[\"Classificação\"] == 0, 'Treinamento'].apply(cleanup)\n",
    "train_irrel_clean"
   ]
  },
  {
   "cell_type": "code",
   "execution_count": 88,
   "metadata": {},
   "outputs": [
    {
     "data": {
      "text/plain": [
       "0        feliz\n",
       "1         pelo\n",
       "2       iphone\n",
       "3           11\n",
       "4          mas\n",
       "         ...  \n",
       "5302        um\n",
       "5303    iphone\n",
       "5304        11\n",
       "5305       por\n",
       "5306     favor\n",
       "Length: 5307, dtype: object"
      ]
     },
     "execution_count": 88,
     "metadata": {},
     "output_type": "execute_result"
    }
   ],
   "source": [
    "train_irrel_clean.astype(str)\n",
    "train_irrel_lower = train_irrel_clean.str.lower()\n",
    "train_irrel = train_irrel_lower.str.split()\n",
    "\n",
    "train_irrel_lista = []\n",
    "\n",
    "for palavras in train_irrel:\n",
    "    train_irrel_lista += palavras\n",
    "serie_train_irrel = pd.Series(train_irrel_lista)\n",
    "serie_train_irrel"
   ]
  },
  {
   "cell_type": "code",
   "execution_count": 89,
   "metadata": {},
   "outputs": [
    {
     "data": {
      "text/plain": [
       "iphone        290\n",
       "11            262\n",
       "o             177\n",
       "um            135\n",
       "de            127\n",
       "             ... \n",
       "autoestima      1\n",
       "confira         1\n",
       "mimmeu          1\n",
       "acorda          1\n",
       "😶               1\n",
       "Length: 1640, dtype: int64"
      ]
     },
     "execution_count": 89,
     "metadata": {},
     "output_type": "execute_result"
    }
   ],
   "source": [
    "serie_train_irrel_absoluta = serie_train_irrel.value_counts()\n",
    "serie_train_irrel_absoluta\n"
   ]
  },
  {
   "cell_type": "code",
   "execution_count": 90,
   "metadata": {},
   "outputs": [
    {
     "data": {
      "text/plain": [
       "0    0.534\n",
       "1    0.466\n",
       "Name: Classificação, dtype: float64"
      ]
     },
     "execution_count": 90,
     "metadata": {},
     "output_type": "execute_result"
    }
   ],
   "source": [
    "train['Classificação'].value_counts(True)"
   ]
  },
  {
   "cell_type": "markdown",
   "metadata": {},
   "source": [
    "Criando a lista de palavras dos tweets e fazendo o smoothing:"
   ]
  },
  {
   "cell_type": "code",
   "execution_count": 91,
   "metadata": {},
   "outputs": [
    {
     "data": {
      "text/plain": [
       "9592"
      ]
     },
     "execution_count": 91,
     "metadata": {},
     "output_type": "execute_result"
    }
   ],
   "source": [
    "total_rel_irrel = train_rel_lista + train_irrel_lista\n",
    "qntd_total = len(total_rel_irrel)\n",
    "qntd_total"
   ]
  },
  {
   "cell_type": "code",
   "execution_count": 92,
   "metadata": {},
   "outputs": [],
   "source": [
    "serie_rel_irrel = pd.Series(total_rel_irrel)"
   ]
  },
  {
   "cell_type": "markdown",
   "metadata": {},
   "source": [
    "##### Criando o classificador:\n",
    "\n",
    "Queremos calcular: \n",
    "\n",
    "- $P(relevante|frase)$: probabilidade de a frase ser relevante;\n",
    "- $P(irrelevante|frase)$: probabilidade de a frase ser irrelevante;\n",
    "\n",
    "A fórmula de Bayes é a seguinte:\n",
    "\n",
    "$$P(relevante|frase) = \\frac{P(frase|relevante) P(relevante)}{P(frase)}$$\n",
    "\n",
    "Ela é análoga para os tweets irrelevantes, trocando tudo que é relevante por irrelevante.\n",
    "\n",
    "Para calcularmos essa probabilidade, é necessário chegar nas seguintes informações:\n",
    "\n",
    "- $P(frase|relevante)$: probabilidade da frase dado que é relevante;\n",
    "- $P(frase|irrelevante)$: probabilidade da frase dado que é irrelevante;\n",
    "- $P(relevante)$: probabilidade de ser relevante;\n",
    "- $P(irrelevante)$: probabilidade de ser irrelevante;\n",
    "- $P(frase)$: probabilidade de uma frase ocorrer na língua portuguesa."
   ]
  },
  {
   "cell_type": "code",
   "execution_count": 93,
   "metadata": {},
   "outputs": [],
   "source": [
    "#definindo o alfa e o V \n",
    "alfa = 1\n",
    "V = 400000"
   ]
  },
  {
   "cell_type": "code",
   "execution_count": 94,
   "metadata": {},
   "outputs": [],
   "source": [
    "#total de tweets relevantes e irrelevantes\n",
    "total_relevante = len(serie_train_rel_absoluta) + (alfa*V)\n",
    "total_irrelevante = len(serie_train_irrel_absoluta) + (alfa*V)"
   ]
  },
  {
   "cell_type": "code",
   "execution_count": 95,
   "metadata": {},
   "outputs": [],
   "source": [
    "#total de palavras\n",
    "total_p = (serie_train_rel_absoluta.sum() + serie_train_irrel_absoluta.sum())"
   ]
  },
  {
   "cell_type": "code",
   "execution_count": 96,
   "metadata": {},
   "outputs": [
    {
     "name": "stdout",
     "output_type": "stream",
     "text": [
      "0.44672643869891576\n"
     ]
    }
   ],
   "source": [
    "#Probabilidade de ser relevante ou irrelevante\n",
    "prob_rel = serie_train_rel_absoluta.sum() / total_p\n",
    "prob_irrel = serie_train_irrel_absoluta.sum() / total_p\n",
    "\n",
    "print(prob_rel)"
   ]
  },
  {
   "cell_type": "code",
   "execution_count": 97,
   "metadata": {},
   "outputs": [],
   "source": [
    "def classificador(tweet, planilha): #Função do classificador\n",
    "    \n",
    "    prob_tt_rel = 1.0 #probabilidade do tweet dado que ele é relevante\n",
    "    prob_tt_irrel = 1.0 #probabilidade do tweet dado que ele é irrelevante\n",
    "    i = 0\n",
    "    \n",
    "    for tt in tweet:\n",
    "        for a in tt:\n",
    "\n",
    "            if a in serie_train_rel_absoluta:\n",
    "                prob_a_dado_rel = (serie_train_rel_absoluta[a] + alfa)/ total_relevante\n",
    "                prob_tt_rel *= prob_a_dado_rel\n",
    "            else: \n",
    "                prob_a_dado_rel = alfa / total_relevante\n",
    "                prob_tt_rel *= prob_a_dado_rel\n",
    "                \n",
    "            if a in serie_train_irrel_absoluta:\n",
    "                prob_a_dado_irrel = (serie_train_irrel_absoluta[a] + alfa)/ total_irrelevante\n",
    "                prob_tt_irrel *= prob_a_dado_irrel\n",
    "            else:\n",
    "                prob_a_dado_irrel = alfa / total_irrelevante\n",
    "                prob_tt_irrel *= prob_a_dado_irrel\n",
    "                \n",
    "        prob_rel_dado_tt = prob_tt_rel * prob_rel\n",
    "        prob_irrel_dado_tt = prob_tt_irrel * prob_irrel\n",
    "    \n",
    "        if prob_rel_dado_tt > prob_irrel_dado_tt:\n",
    "            planilha.iloc[i,2] = 1\n",
    "        elif prob_irrel_dado_tt > prob_rel_dado_tt:\n",
    "            planilha.iloc[i,2] = 0\n",
    "        \n",
    "        i +=1\n",
    "        prob_tt_rel = 1.0 #probabilidade do tweet dado que ele é relevante\n",
    "        prob_tt_irrel = 1.0 #probabilidade do tweet dado que ele é irrelevante    "
   ]
  },
  {
   "cell_type": "markdown",
   "metadata": {},
   "source": [
    "___\n",
    "### Verificando a performance do Classificador\n",
    "\n",
    "Agora você deve testar o seu classificador com a base de Testes."
   ]
  },
  {
   "cell_type": "markdown",
   "metadata": {},
   "source": [
    "Limpando e pegando as frequências relativas e absolutas dos tweets relevantes:"
   ]
  },
  {
   "cell_type": "markdown",
   "metadata": {},
   "source": [
    "## Rodando o classificador com os tweets de treinamento"
   ]
  },
  {
   "cell_type": "code",
   "execution_count": 98,
   "metadata": {},
   "outputs": [],
   "source": [
    "train_tts = []\n",
    "train_cleaner = train['Treinamento'].apply(cleanup)\n"
   ]
  },
  {
   "cell_type": "code",
   "execution_count": 99,
   "metadata": {},
   "outputs": [],
   "source": [
    "for tt in train_cleaner:\n",
    "    train_tts.append(tt.split())"
   ]
  },
  {
   "cell_type": "code",
   "execution_count": 100,
   "metadata": {},
   "outputs": [],
   "source": [
    "train['Classificador'] = 'X'"
   ]
  },
  {
   "cell_type": "code",
   "execution_count": 101,
   "metadata": {},
   "outputs": [
    {
     "data": {
      "text/html": [
       "<div>\n",
       "<style scoped>\n",
       "    .dataframe tbody tr th:only-of-type {\n",
       "        vertical-align: middle;\n",
       "    }\n",
       "\n",
       "    .dataframe tbody tr th {\n",
       "        vertical-align: top;\n",
       "    }\n",
       "\n",
       "    .dataframe thead th {\n",
       "        text-align: right;\n",
       "    }\n",
       "</style>\n",
       "<table border=\"1\" class=\"dataframe\">\n",
       "  <thead>\n",
       "    <tr style=\"text-align: right;\">\n",
       "      <th></th>\n",
       "      <th>Treinamento</th>\n",
       "      <th>Classificação</th>\n",
       "      <th>Classificador</th>\n",
       "    </tr>\n",
       "  </thead>\n",
       "  <tbody>\n",
       "    <tr>\n",
       "      <td>0</td>\n",
       "      <td>feliz pelo iphone 11 mas o iphone 10 mds é mui...</td>\n",
       "      <td>0</td>\n",
       "      <td>0</td>\n",
       "    </tr>\n",
       "    <tr>\n",
       "      <td>1</td>\n",
       "      <td>quando eu estiver comprando o iphone 11 pro ma...</td>\n",
       "      <td>1</td>\n",
       "      <td>1</td>\n",
       "    </tr>\n",
       "    <tr>\n",
       "      <td>2</td>\n",
       "      <td>não consegui comprar o iphone 11,imagina o 14</td>\n",
       "      <td>1</td>\n",
       "      <td>1</td>\n",
       "    </tr>\n",
       "    <tr>\n",
       "      <td>3</td>\n",
       "      <td>graças a deus vou compra meu iphone 11 pro max 🤩</td>\n",
       "      <td>1</td>\n",
       "      <td>1</td>\n",
       "    </tr>\n",
       "    <tr>\n",
       "      <td>4</td>\n",
       "      <td>gente, qual a diferença pro iphone 11? kkkkkkk...</td>\n",
       "      <td>1</td>\n",
       "      <td>0</td>\n",
       "    </tr>\n",
       "    <tr>\n",
       "      <td>...</td>\n",
       "      <td>...</td>\n",
       "      <td>...</td>\n",
       "      <td>...</td>\n",
       "    </tr>\n",
       "    <tr>\n",
       "      <td>495</td>\n",
       "      <td>rt @vick_417: e eu que quase comprei o iphone ...</td>\n",
       "      <td>1</td>\n",
       "      <td>0</td>\n",
       "    </tr>\n",
       "    <tr>\n",
       "      <td>496</td>\n",
       "      <td>e nem vou comentar o “comunistas” e o “anti ca...</td>\n",
       "      <td>0</td>\n",
       "      <td>0</td>\n",
       "    </tr>\n",
       "    <tr>\n",
       "      <td>497</td>\n",
       "      <td>rt @rannasoareez: comprei o iphone 11 e aí inv...</td>\n",
       "      <td>0</td>\n",
       "      <td>0</td>\n",
       "    </tr>\n",
       "    <tr>\n",
       "      <td>498</td>\n",
       "      <td>@wulfs1ghs ᅟᅟᅟ   ⠀\\n/entrega uma caixa do ipho...</td>\n",
       "      <td>1</td>\n",
       "      <td>0</td>\n",
       "    </tr>\n",
       "    <tr>\n",
       "      <td>499</td>\n",
       "      <td>preciso de um telefone novo, alguém me dá um i...</td>\n",
       "      <td>0</td>\n",
       "      <td>0</td>\n",
       "    </tr>\n",
       "  </tbody>\n",
       "</table>\n",
       "<p>500 rows × 3 columns</p>\n",
       "</div>"
      ],
      "text/plain": [
       "                                           Treinamento  Classificação  \\\n",
       "0    feliz pelo iphone 11 mas o iphone 10 mds é mui...              0   \n",
       "1    quando eu estiver comprando o iphone 11 pro ma...              1   \n",
       "2        não consegui comprar o iphone 11,imagina o 14              1   \n",
       "3     graças a deus vou compra meu iphone 11 pro max 🤩              1   \n",
       "4    gente, qual a diferença pro iphone 11? kkkkkkk...              1   \n",
       "..                                                 ...            ...   \n",
       "495  rt @vick_417: e eu que quase comprei o iphone ...              1   \n",
       "496  e nem vou comentar o “comunistas” e o “anti ca...              0   \n",
       "497  rt @rannasoareez: comprei o iphone 11 e aí inv...              0   \n",
       "498  @wulfs1ghs ᅟᅟᅟ   ⠀\\n/entrega uma caixa do ipho...              1   \n",
       "499  preciso de um telefone novo, alguém me dá um i...              0   \n",
       "\n",
       "     Classificador  \n",
       "0                0  \n",
       "1                1  \n",
       "2                1  \n",
       "3                1  \n",
       "4                0  \n",
       "..             ...  \n",
       "495              0  \n",
       "496              0  \n",
       "497              0  \n",
       "498              0  \n",
       "499              0  \n",
       "\n",
       "[500 rows x 3 columns]"
      ]
     },
     "execution_count": 101,
     "metadata": {},
     "output_type": "execute_result"
    }
   ],
   "source": [
    "classificador(train_tts, train)\n",
    "train"
   ]
  },
  {
   "cell_type": "code",
   "execution_count": 102,
   "metadata": {},
   "outputs": [
    {
     "data": {
      "text/html": [
       "<div>\n",
       "<style scoped>\n",
       "    .dataframe tbody tr th:only-of-type {\n",
       "        vertical-align: middle;\n",
       "    }\n",
       "\n",
       "    .dataframe tbody tr th {\n",
       "        vertical-align: top;\n",
       "    }\n",
       "\n",
       "    .dataframe thead th {\n",
       "        text-align: right;\n",
       "    }\n",
       "</style>\n",
       "<table border=\"1\" class=\"dataframe\">\n",
       "  <thead>\n",
       "    <tr style=\"text-align: right;\">\n",
       "      <th>Classificador</th>\n",
       "      <th>0</th>\n",
       "      <th>1</th>\n",
       "    </tr>\n",
       "    <tr>\n",
       "      <th>Classificação</th>\n",
       "      <th></th>\n",
       "      <th></th>\n",
       "    </tr>\n",
       "  </thead>\n",
       "  <tbody>\n",
       "    <tr>\n",
       "      <td>0</td>\n",
       "      <td>0.526</td>\n",
       "      <td>0.008</td>\n",
       "    </tr>\n",
       "    <tr>\n",
       "      <td>1</td>\n",
       "      <td>0.126</td>\n",
       "      <td>0.340</td>\n",
       "    </tr>\n",
       "  </tbody>\n",
       "</table>\n",
       "</div>"
      ],
      "text/plain": [
       "Classificador      0      1\n",
       "Classificação              \n",
       "0              0.526  0.008\n",
       "1              0.126  0.340"
      ]
     },
     "execution_count": 102,
     "metadata": {},
     "output_type": "execute_result"
    }
   ],
   "source": [
    "pd.crosstab(train['Classificação'],train['Classificador'],normalize = 'all')"
   ]
  },
  {
   "cell_type": "code",
   "execution_count": 113,
   "metadata": {},
   "outputs": [
    {
     "data": {
      "text/plain": [
       "0    0.534\n",
       "1    0.466\n",
       "Name: Classificação, dtype: float64"
      ]
     },
     "execution_count": 113,
     "metadata": {},
     "output_type": "execute_result"
    }
   ],
   "source": [
    "train[\"Classificação\"].value_counts(True)"
   ]
  },
  {
   "cell_type": "markdown",
   "metadata": {},
   "source": [
    "## Rodando o classificador com os tweets de teste\n"
   ]
  },
  {
   "cell_type": "code",
   "execution_count": 104,
   "metadata": {},
   "outputs": [
    {
     "data": {
      "text/plain": [
       "4      é meus amigos que fase troquei gramado por um ...\n",
       "5      meu pai comprou um iphone 11 e eu ainda achei ...\n",
       "7               vou pegar o iphone 11 final do ano  😍  😍\n",
       "10     a apple já criou o iphone 12 enquanto eu acabe...\n",
       "12     eu babava pelo carregador turbo do motorola ma...\n",
       "                             ...                        \n",
       "223    rt @fernandavsntss eu to muito triste e soment...\n",
       "225      deixem me ter iphone 11 vão ver só snaps a cair\n",
       "229    @renatinhapoqui n consigo fazer meu ead pq meu...\n",
       "234    bateria do iphone 11 é tudooo ainda nem carreg...\n",
       "237                        @_ilipe quero um iphone 11  🤔\n",
       "Name: Teste, Length: 89, dtype: object"
      ]
     },
     "execution_count": 104,
     "metadata": {},
     "output_type": "execute_result"
    }
   ],
   "source": [
    "teste_rel_clean = test.loc[test[\"Relevância\"] == 1, 'Teste'].apply(cleanup)\n",
    "teste_rel_clean"
   ]
  },
  {
   "cell_type": "code",
   "execution_count": 105,
   "metadata": {},
   "outputs": [
    {
     "data": {
      "text/plain": [
       "0            é\n",
       "1         meus\n",
       "2       amigos\n",
       "3          que\n",
       "4         fase\n",
       "         ...  \n",
       "1481     quero\n",
       "1482        um\n",
       "1483    iphone\n",
       "1484        11\n",
       "1485         🤔\n",
       "Length: 1486, dtype: object"
      ]
     },
     "execution_count": 105,
     "metadata": {},
     "output_type": "execute_result"
    }
   ],
   "source": [
    "teste_rel_clean.astype(str)\n",
    "teste_rel_lower = teste_rel_clean.str.lower()\n",
    "teste_rel = teste_rel_lower.str.split()\n",
    "\n",
    "\n",
    "teste_rel_lista = []\n",
    "\n",
    "for palavras in teste_rel:\n",
    "    teste_rel_lista += palavras\n",
    "serie_teste_rel = pd.Series(teste_rel_lista)\n",
    "serie_teste_rel"
   ]
  },
  {
   "cell_type": "code",
   "execution_count": 106,
   "metadata": {},
   "outputs": [
    {
     "data": {
      "text/plain": [
       "iphone          92\n",
       "11              90\n",
       "o               67\n",
       "um              45\n",
       "do              28\n",
       "                ..\n",
       "lugar            1\n",
       "@placewantsz     1\n",
       "ufa              1\n",
       "vender           1\n",
       "@taylaiss        1\n",
       "Length: 557, dtype: int64"
      ]
     },
     "execution_count": 106,
     "metadata": {},
     "output_type": "execute_result"
    }
   ],
   "source": [
    "serie_teste_rel_absoluta = serie_teste_rel.value_counts()\n",
    "serie_teste_rel_absoluta"
   ]
  },
  {
   "cell_type": "code",
   "execution_count": 107,
   "metadata": {},
   "outputs": [
    {
     "data": {
      "text/plain": [
       "iphone     0.059510\n",
       "11         0.053209\n",
       "o          0.041774\n",
       "um         0.028471\n",
       "eu         0.019370\n",
       "             ...   \n",
       "—          0.000233\n",
       "saúde      0.000233\n",
       "monte      0.000233\n",
       "boa        0.000233\n",
       "demorei    0.000233\n",
       "Length: 1257, dtype: float64"
      ]
     },
     "execution_count": 107,
     "metadata": {},
     "output_type": "execute_result"
    }
   ],
   "source": [
    "serie_teste_rel_relativa = serie_train_rel.value_counts(True)\n",
    "serie_teste_rel_relativa"
   ]
  },
  {
   "cell_type": "markdown",
   "metadata": {},
   "source": [
    "E dos irrelevantes:"
   ]
  },
  {
   "cell_type": "code",
   "execution_count": 108,
   "metadata": {},
   "outputs": [
    {
     "data": {
      "text/plain": [
       "0      @hyzerfps iphone 11 = fogao de 3 bocasiphone 1...\n",
       "1      @sirmaykon @uourah kkkkkkkkkkkkkkkkkkkkkk tem ...\n",
       "2      @cnnbrbusiness @cnnbrasil por isso o mundo tá ...\n",
       "3      rt @k3viyn appleevent esperando o iphone 12 la...\n",
       "6                                 era só um iphone 11  🤧\n",
       "                             ...                        \n",
       "231    eu nunca me esqueço do dia q fui tapeada num s...\n",
       "232                 ganhar um iphone 11 //tco/coxrl1zkza\n",
       "233    rezando pra que tenha chegado película pro iph...\n",
       "235    o candidato de igt bancando o populista matuto...\n",
       "236    @junior_onda vamos pegar o iphone 11 do nosso ...\n",
       "Name: Teste, Length: 149, dtype: object"
      ]
     },
     "execution_count": 108,
     "metadata": {},
     "output_type": "execute_result"
    }
   ],
   "source": [
    "teste_irrel_clean = test.loc[test[\"Relevância\"] == 0, 'Teste'].apply(cleanup)\n",
    "teste_irrel_clean"
   ]
  },
  {
   "cell_type": "code",
   "execution_count": 109,
   "metadata": {},
   "outputs": [
    {
     "data": {
      "text/plain": [
       "0                 @hyzerfps\n",
       "1                    iphone\n",
       "2                        11\n",
       "3                         =\n",
       "4                     fogao\n",
       "               ...         \n",
       "2780                     do\n",
       "2781                  nosso\n",
       "2782               parceiro\n",
       "2783       @brendonricardo2\n",
       "2784    kkkkkkkkkkkkkkkkkkk\n",
       "Length: 2785, dtype: object"
      ]
     },
     "execution_count": 109,
     "metadata": {},
     "output_type": "execute_result"
    }
   ],
   "source": [
    "teste_irrel_clean.astype(str)\n",
    "teste_irrel_lower = teste_irrel_clean.str.lower()\n",
    "teste_irrel = teste_irrel_lower.str.split()\n",
    "\n",
    "\n",
    "teste_irrel_lista = []\n",
    "\n",
    "for palavras in teste_irrel:\n",
    "    teste_irrel_lista += palavras\n",
    "serie_teste_irrel = pd.Series(teste_irrel_lista)\n",
    "serie_teste_irrel"
   ]
  },
  {
   "cell_type": "code",
   "execution_count": 110,
   "metadata": {},
   "outputs": [
    {
     "data": {
      "text/plain": [
       "iphone        164\n",
       "11            146\n",
       "o              91\n",
       "e              57\n",
       "que            57\n",
       "             ... \n",
       "sobre           1\n",
       "intagram        1\n",
       "😁               1\n",
       "dps             1\n",
       "classifica      1\n",
       "Length: 983, dtype: int64"
      ]
     },
     "execution_count": 110,
     "metadata": {},
     "output_type": "execute_result"
    }
   ],
   "source": [
    "serie_teste_irrel_absoluta = serie_teste_irrel.value_counts()\n",
    "serie_teste_irrel_absoluta"
   ]
  },
  {
   "cell_type": "code",
   "execution_count": 111,
   "metadata": {},
   "outputs": [
    {
     "data": {
      "text/plain": [
       "iphone                   0.059257\n",
       "11                       0.050552\n",
       "o                        0.033646\n",
       "um                       0.027787\n",
       "de                       0.024104\n",
       "                           ...   \n",
       "https//tco/tqbbtqbgxo    0.000167\n",
       "pronta                   0.000167\n",
       "free                     0.000167\n",
       "700                      0.000167\n",
       "😶                        0.000167\n",
       "Length: 1750, dtype: float64"
      ]
     },
     "execution_count": 111,
     "metadata": {},
     "output_type": "execute_result"
    }
   ],
   "source": [
    "serie_teste_irrelevante_relativa = serie_train_irrelevante.value_counts(True)\n",
    "serie_teste_irrelevante_relativa"
   ]
  },
  {
   "cell_type": "markdown",
   "metadata": {},
   "source": [
    "*Implementando o Classificador*"
   ]
  },
  {
   "cell_type": "code",
   "execution_count": 117,
   "metadata": {},
   "outputs": [],
   "source": [
    "test_tts = []\n",
    "test_cleaner = test['Teste'].apply(cleanup)"
   ]
  },
  {
   "cell_type": "code",
   "execution_count": 118,
   "metadata": {},
   "outputs": [],
   "source": [
    "for tt in test_cleaner:\n",
    "    test_tts.append(tt.split())"
   ]
  },
  {
   "cell_type": "code",
   "execution_count": 125,
   "metadata": {},
   "outputs": [],
   "source": [
    "test['Classificador'] = 'X'"
   ]
  },
  {
   "cell_type": "code",
   "execution_count": 126,
   "metadata": {},
   "outputs": [
    {
     "data": {
      "text/html": [
       "<div>\n",
       "<style scoped>\n",
       "    .dataframe tbody tr th:only-of-type {\n",
       "        vertical-align: middle;\n",
       "    }\n",
       "\n",
       "    .dataframe tbody tr th {\n",
       "        vertical-align: top;\n",
       "    }\n",
       "\n",
       "    .dataframe thead th {\n",
       "        text-align: right;\n",
       "    }\n",
       "</style>\n",
       "<table border=\"1\" class=\"dataframe\">\n",
       "  <thead>\n",
       "    <tr style=\"text-align: right;\">\n",
       "      <th></th>\n",
       "      <th>Teste</th>\n",
       "      <th>Relevância</th>\n",
       "      <th>Classificador</th>\n",
       "    </tr>\n",
       "  </thead>\n",
       "  <tbody>\n",
       "    <tr>\n",
       "      <td>0</td>\n",
       "      <td>@hyzerfps iphone 11 = fogao de 3 bocas\\niphone...</td>\n",
       "      <td>0</td>\n",
       "      <td>0</td>\n",
       "    </tr>\n",
       "    <tr>\n",
       "      <td>1</td>\n",
       "      <td>@sirmaykon @uourah kkkkkkkkkkkkkkkkkkkkkk tem ...</td>\n",
       "      <td>0</td>\n",
       "      <td>0</td>\n",
       "    </tr>\n",
       "    <tr>\n",
       "      <td>2</td>\n",
       "      <td>@cnnbrbusiness @cnnbrasil por isso o mundo tá ...</td>\n",
       "      <td>0</td>\n",
       "      <td>0</td>\n",
       "    </tr>\n",
       "    <tr>\n",
       "      <td>3</td>\n",
       "      <td>rt @k3viyn: #appleevent esperando o iphone 12 ...</td>\n",
       "      <td>0</td>\n",
       "      <td>0</td>\n",
       "    </tr>\n",
       "    <tr>\n",
       "      <td>4</td>\n",
       "      <td>é meus amigos, que fase! troquei gramado por u...</td>\n",
       "      <td>1</td>\n",
       "      <td>0</td>\n",
       "    </tr>\n",
       "    <tr>\n",
       "      <td>...</td>\n",
       "      <td>...</td>\n",
       "      <td>...</td>\n",
       "      <td>...</td>\n",
       "    </tr>\n",
       "    <tr>\n",
       "      <td>233</td>\n",
       "      <td>rezando pra que tenha chegado película pro iph...</td>\n",
       "      <td>0</td>\n",
       "      <td>0</td>\n",
       "    </tr>\n",
       "    <tr>\n",
       "      <td>234</td>\n",
       "      <td>bateria do iphone 11 é tudooo! ainda nem carre...</td>\n",
       "      <td>1</td>\n",
       "      <td>1</td>\n",
       "    </tr>\n",
       "    <tr>\n",
       "      <td>235</td>\n",
       "      <td>o candidato de igt bancando o populista matuto...</td>\n",
       "      <td>0</td>\n",
       "      <td>0</td>\n",
       "    </tr>\n",
       "    <tr>\n",
       "      <td>236</td>\n",
       "      <td>@junior_onda vamos pegar o iphone 11 do nosso ...</td>\n",
       "      <td>0</td>\n",
       "      <td>1</td>\n",
       "    </tr>\n",
       "    <tr>\n",
       "      <td>237</td>\n",
       "      <td>@_ilipe quero um iphone 11 🤔</td>\n",
       "      <td>1</td>\n",
       "      <td>1</td>\n",
       "    </tr>\n",
       "  </tbody>\n",
       "</table>\n",
       "<p>238 rows × 3 columns</p>\n",
       "</div>"
      ],
      "text/plain": [
       "                                                 Teste  Relevância  \\\n",
       "0    @hyzerfps iphone 11 = fogao de 3 bocas\\niphone...           0   \n",
       "1    @sirmaykon @uourah kkkkkkkkkkkkkkkkkkkkkk tem ...           0   \n",
       "2    @cnnbrbusiness @cnnbrasil por isso o mundo tá ...           0   \n",
       "3    rt @k3viyn: #appleevent esperando o iphone 12 ...           0   \n",
       "4    é meus amigos, que fase! troquei gramado por u...           1   \n",
       "..                                                 ...         ...   \n",
       "233  rezando pra que tenha chegado película pro iph...           0   \n",
       "234  bateria do iphone 11 é tudooo! ainda nem carre...           1   \n",
       "235  o candidato de igt bancando o populista matuto...           0   \n",
       "236  @junior_onda vamos pegar o iphone 11 do nosso ...           0   \n",
       "237                       @_ilipe quero um iphone 11 🤔           1   \n",
       "\n",
       "     Classificador  \n",
       "0                0  \n",
       "1                0  \n",
       "2                0  \n",
       "3                0  \n",
       "4                0  \n",
       "..             ...  \n",
       "233              0  \n",
       "234              1  \n",
       "235              0  \n",
       "236              1  \n",
       "237              1  \n",
       "\n",
       "[238 rows x 3 columns]"
      ]
     },
     "execution_count": 126,
     "metadata": {},
     "output_type": "execute_result"
    }
   ],
   "source": [
    "classificador(test_tts, test)\n",
    "test"
   ]
  },
  {
   "cell_type": "code",
   "execution_count": 124,
   "metadata": {},
   "outputs": [
    {
     "data": {
      "text/html": [
       "<div>\n",
       "<style scoped>\n",
       "    .dataframe tbody tr th:only-of-type {\n",
       "        vertical-align: middle;\n",
       "    }\n",
       "\n",
       "    .dataframe tbody tr th {\n",
       "        vertical-align: top;\n",
       "    }\n",
       "\n",
       "    .dataframe thead th {\n",
       "        text-align: right;\n",
       "    }\n",
       "</style>\n",
       "<table border=\"1\" class=\"dataframe\">\n",
       "  <thead>\n",
       "    <tr style=\"text-align: right;\">\n",
       "      <th>Classificador</th>\n",
       "      <th>0</th>\n",
       "      <th>1</th>\n",
       "    </tr>\n",
       "    <tr>\n",
       "      <th>Relevância</th>\n",
       "      <th></th>\n",
       "      <th></th>\n",
       "    </tr>\n",
       "  </thead>\n",
       "  <tbody>\n",
       "    <tr>\n",
       "      <td>0</td>\n",
       "      <td>0.575630</td>\n",
       "      <td>0.050420</td>\n",
       "    </tr>\n",
       "    <tr>\n",
       "      <td>1</td>\n",
       "      <td>0.205882</td>\n",
       "      <td>0.168067</td>\n",
       "    </tr>\n",
       "  </tbody>\n",
       "</table>\n",
       "</div>"
      ],
      "text/plain": [
       "Classificador         0         1\n",
       "Relevância                       \n",
       "0              0.575630  0.050420\n",
       "1              0.205882  0.168067"
      ]
     },
     "execution_count": 124,
     "metadata": {},
     "output_type": "execute_result"
    }
   ],
   "source": [
    "pd.crosstab(test['Relevância'],test['Classificador'],normalize = 'all')"
   ]
  },
  {
   "cell_type": "code",
   "execution_count": null,
   "metadata": {},
   "outputs": [],
   "source": []
  },
  {
   "cell_type": "markdown",
   "metadata": {},
   "source": [
    "___\n",
    "### Concluindo"
   ]
  },
  {
   "cell_type": "code",
   "execution_count": null,
   "metadata": {},
   "outputs": [],
   "source": []
  },
  {
   "cell_type": "code",
   "execution_count": null,
   "metadata": {},
   "outputs": [],
   "source": []
  },
  {
   "cell_type": "markdown",
   "metadata": {},
   "source": [
    "___\n",
    "## Aperfeiçoamento:\n",
    "\n",
    "Os trabalhos vão evoluir em conceito dependendo da quantidade de itens avançados:\n",
    "\n",
    "* Limpar: \\n, :, \", ', (, ), etc SEM remover emojis\n",
    "* Corrigir separação de espaços entre palavras e emojis ou entre emojis e emojis\n",
    "* Propor outras limpezas e transformações que não afetem a qualidade da informação ou classificação\n",
    "* Criar categorias intermediárias de relevância baseadas na probabilidade: ex.: muito relevante, relevante, neutro, irrelevante, muito irrelevante (3 categorias: C, mais categorias conta para B)\n",
    "* Explicar por que não posso usar o próprio classificador para gerar mais amostras de treinamento\n",
    "* Propor diferentes cenários para Naïve Bayes fora do contexto do projeto\n",
    "* Sugerir e explicar melhorias reais com indicações concretas de como implementar (indicar como fazer e indicar material de pesquisa)\n",
    "* Montar um dashboard que realiza análise de sentimento e visualiza estes dados"
   ]
  },
  {
   "cell_type": "markdown",
   "metadata": {},
   "source": [
    "___\n",
    "## Referências"
   ]
  },
  {
   "cell_type": "markdown",
   "metadata": {},
   "source": [
    "[Naive Bayes and Text Classification](https://arxiv.org/pdf/1410.5329.pdf)  **Mais completo**\n",
    "\n",
    "[A practical explanation of a Naive Bayes Classifier](https://monkeylearn.com/blog/practical-explanation-naive-bayes-classifier/) **Mais simples**"
   ]
  },
  {
   "cell_type": "code",
   "execution_count": null,
   "metadata": {},
   "outputs": [],
   "source": []
  }
 ],
 "metadata": {
  "kernelspec": {
   "display_name": "Python 3",
   "language": "python",
   "name": "python3"
  },
  "language_info": {
   "codemirror_mode": {
    "name": "ipython",
    "version": 3
   },
   "file_extension": ".py",
   "mimetype": "text/x-python",
   "name": "python",
   "nbconvert_exporter": "python",
   "pygments_lexer": "ipython3",
   "version": "3.7.4"
  }
 },
 "nbformat": 4,
 "nbformat_minor": 4
}
