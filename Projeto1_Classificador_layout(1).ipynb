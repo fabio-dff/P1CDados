{
 "cells": [
  {
   "cell_type": "markdown",
   "metadata": {},
   "source": [
    "# Projeto 1 - Ciência dos Dados"
   ]
  },
  {
   "cell_type": "markdown",
   "metadata": {},
   "source": [
    "Nome: Ralph Michaan\n",
    "\n",
    "Nome: Fábio Ferreira"
   ]
  },
  {
   "cell_type": "markdown",
   "metadata": {},
   "source": [
    "**Atenção:** Serão permitidos grupos de três pessoas, mas com uma rubrica mais exigente. Grupos deste tamanho precisarão fazer um questionário de avaliação de trabalho em equipe"
   ]
  },
  {
   "cell_type": "markdown",
   "metadata": {},
   "source": [
    "___\n",
    "Carregando algumas bibliotecas:"
   ]
  },
  {
   "cell_type": "code",
   "execution_count": 187,
   "metadata": {},
   "outputs": [],
   "source": [
    "%matplotlib inline\n",
    "from emoji import UNICODE_EMOJI\n",
    "import pandas as pd\n",
    "import matplotlib.pyplot as plt\n",
    "import numpy as np\n",
    "from math import *"
   ]
  },
  {
   "cell_type": "markdown",
   "metadata": {},
   "source": [
    "**Em `filename`, coloque o nome do seu arquivo de dados!**"
   ]
  },
  {
   "cell_type": "code",
   "execution_count": 188,
   "metadata": {
    "scrolled": false
   },
   "outputs": [
    {
     "name": "stdout",
     "output_type": "stream",
     "text": [
      "Encontrei o arquivo iPhone.xlsx, tudo certo para prosseguir com a prova!\n"
     ]
    }
   ],
   "source": [
    "import os\n",
    "\n",
    "filename = 'iPhone.xlsx'\n",
    "if filename in os.listdir():\n",
    "    print(f'Encontrei o arquivo {filename}, tudo certo para prosseguir com a prova!')\n",
    "else:\n",
    "    print(f'Não encontrei o arquivo {filename} aqui no diretório {os.getcwd()}, será que você não baixou o arquivo?')"
   ]
  },
  {
   "cell_type": "markdown",
   "metadata": {},
   "source": [
    "Carregando a base de dados com os tweets classificados como relevantes e não relevantes:"
   ]
  },
  {
   "cell_type": "code",
   "execution_count": 189,
   "metadata": {},
   "outputs": [
    {
     "data": {
      "text/html": [
       "<div>\n",
       "<style scoped>\n",
       "    .dataframe tbody tr th:only-of-type {\n",
       "        vertical-align: middle;\n",
       "    }\n",
       "\n",
       "    .dataframe tbody tr th {\n",
       "        vertical-align: top;\n",
       "    }\n",
       "\n",
       "    .dataframe thead th {\n",
       "        text-align: right;\n",
       "    }\n",
       "</style>\n",
       "<table border=\"1\" class=\"dataframe\">\n",
       "  <thead>\n",
       "    <tr style=\"text-align: right;\">\n",
       "      <th></th>\n",
       "      <th>Treinamento</th>\n",
       "      <th>Classificação</th>\n",
       "    </tr>\n",
       "  </thead>\n",
       "  <tbody>\n",
       "    <tr>\n",
       "      <td>0</td>\n",
       "      <td>feliz pelo iphone 11 mas o iphone 10 mds é mui...</td>\n",
       "      <td>0</td>\n",
       "    </tr>\n",
       "    <tr>\n",
       "      <td>1</td>\n",
       "      <td>quando eu estiver comprando o iphone 11 pro ma...</td>\n",
       "      <td>1</td>\n",
       "    </tr>\n",
       "    <tr>\n",
       "      <td>2</td>\n",
       "      <td>não consegui comprar o iphone 11,imagina o 14</td>\n",
       "      <td>1</td>\n",
       "    </tr>\n",
       "    <tr>\n",
       "      <td>3</td>\n",
       "      <td>graças a deus vou compra meu iphone 11 pro max 🤩</td>\n",
       "      <td>1</td>\n",
       "    </tr>\n",
       "    <tr>\n",
       "      <td>4</td>\n",
       "      <td>gente, qual a diferença pro iphone 11? kkkkkkk...</td>\n",
       "      <td>1</td>\n",
       "    </tr>\n",
       "  </tbody>\n",
       "</table>\n",
       "</div>"
      ],
      "text/plain": [
       "                                         Treinamento  Classificação\n",
       "0  feliz pelo iphone 11 mas o iphone 10 mds é mui...              0\n",
       "1  quando eu estiver comprando o iphone 11 pro ma...              1\n",
       "2      não consegui comprar o iphone 11,imagina o 14              1\n",
       "3   graças a deus vou compra meu iphone 11 pro max 🤩              1\n",
       "4  gente, qual a diferença pro iphone 11? kkkkkkk...              1"
      ]
     },
     "execution_count": 189,
     "metadata": {},
     "output_type": "execute_result"
    }
   ],
   "source": [
    "train = pd.read_excel(filename, sheet_name = 'Treinamento')\n",
    "train.head(5)"
   ]
  },
  {
   "cell_type": "code",
   "execution_count": 190,
   "metadata": {},
   "outputs": [
    {
     "data": {
      "text/html": [
       "<div>\n",
       "<style scoped>\n",
       "    .dataframe tbody tr th:only-of-type {\n",
       "        vertical-align: middle;\n",
       "    }\n",
       "\n",
       "    .dataframe tbody tr th {\n",
       "        vertical-align: top;\n",
       "    }\n",
       "\n",
       "    .dataframe thead th {\n",
       "        text-align: right;\n",
       "    }\n",
       "</style>\n",
       "<table border=\"1\" class=\"dataframe\">\n",
       "  <thead>\n",
       "    <tr style=\"text-align: right;\">\n",
       "      <th></th>\n",
       "      <th>Teste</th>\n",
       "      <th>Relevância</th>\n",
       "    </tr>\n",
       "  </thead>\n",
       "  <tbody>\n",
       "    <tr>\n",
       "      <td>0</td>\n",
       "      <td>@hyzerfps iphone 11 = fogao de 3 bocas\\niphone...</td>\n",
       "      <td>0</td>\n",
       "    </tr>\n",
       "    <tr>\n",
       "      <td>1</td>\n",
       "      <td>@sirmaykon @uourah kkkkkkkkkkkkkkkkkkkkkk tem ...</td>\n",
       "      <td>0</td>\n",
       "    </tr>\n",
       "    <tr>\n",
       "      <td>2</td>\n",
       "      <td>@cnnbrbusiness @cnnbrasil por isso o mundo tá ...</td>\n",
       "      <td>0</td>\n",
       "    </tr>\n",
       "    <tr>\n",
       "      <td>3</td>\n",
       "      <td>rt @k3viyn: #appleevent esperando o iphone 12 ...</td>\n",
       "      <td>0</td>\n",
       "    </tr>\n",
       "    <tr>\n",
       "      <td>4</td>\n",
       "      <td>é meus amigos, que fase! troquei gramado por u...</td>\n",
       "      <td>1</td>\n",
       "    </tr>\n",
       "  </tbody>\n",
       "</table>\n",
       "</div>"
      ],
      "text/plain": [
       "                                               Teste  Relevância\n",
       "0  @hyzerfps iphone 11 = fogao de 3 bocas\\niphone...           0\n",
       "1  @sirmaykon @uourah kkkkkkkkkkkkkkkkkkkkkk tem ...           0\n",
       "2  @cnnbrbusiness @cnnbrasil por isso o mundo tá ...           0\n",
       "3  rt @k3viyn: #appleevent esperando o iphone 12 ...           0\n",
       "4  é meus amigos, que fase! troquei gramado por u...           1"
      ]
     },
     "execution_count": 190,
     "metadata": {},
     "output_type": "execute_result"
    }
   ],
   "source": [
    "test = pd.read_excel(filename, sheet_name = 'Teste')\n",
    "test.head(5)"
   ]
  },
  {
   "cell_type": "markdown",
   "metadata": {},
   "source": [
    "___\n",
    "## Classificador automático de sentimento\n"
   ]
  },
  {
   "cell_type": "markdown",
   "metadata": {},
   "source": [
    "Faça aqui uma descrição do seu produto e o que considerou como relevante ou não relevante na classificação dos tweets.\n",
    "\n",
    "Nosso produto é um smartphone da Apple, lançado em setembro de 2019, por um preço um pouco mais baixo que suas variantes mais parrudas.\n",
    "\n",
    "Consideramos relevante os tweets em que havia algum feedback sobre o produto, ou se a pessoa tinha vontade de ter, já os desconsiderados foram as piadas feitas com o valor, e os tweets que não se tratavam do iPhone 11 propriamente dito."
   ]
  },
  {
   "cell_type": "markdown",
   "metadata": {},
   "source": [
    "___\n",
    "### Montando um Classificador Naive-Bayes\n",
    "\n",
    "Considerando apenas as mensagens da planilha Treinamento, ensine  seu classificador."
   ]
  },
  {
   "cell_type": "markdown",
   "metadata": {},
   "source": [
    "Limpando os tweets e pegando as frequências absolutas e relativas:"
   ]
  },
  {
   "cell_type": "code",
   "execution_count": 191,
   "metadata": {},
   "outputs": [],
   "source": [
    "import re\n",
    "\n",
    "def is_emoji(s):\n",
    "    return s in UNICODE_EMOJI\n",
    "\n",
    "def cleanup(text):\n",
    "    \"\"\"\n",
    "        Função de limpeza muito simples que troca alguns sinais básicos por espaços\n",
    "    \"\"\"\n",
    "    #import string\n",
    "    punctuation = '[!-.:?;]' # Note que os sinais [] são delimitadores de um conjunto.\n",
    "    pattern = re.compile(punctuation)\n",
    "    text_subbed = re.sub(pattern, '', text)\n",
    "    text_subbed = re.sub('https', \"\", text_subbed)\n",
    "    text_subbed = re.sub('\\n', '', text_subbed)\n",
    "    text_subbed = ''.join(' ' + char + ' ' if is_emoji(char) else char for char in text_subbed).strip()\n",
    "    return text_subbed\n",
    "\n",
    "\n",
    "def is_emoji(s):\n",
    "    return s in UNICODE_EMOJI\n"
   ]
  },
  {
   "cell_type": "markdown",
   "metadata": {},
   "source": [
    "Dos tweets relevantes:"
   ]
  },
  {
   "cell_type": "code",
   "execution_count": 192,
   "metadata": {},
   "outputs": [
    {
     "data": {
      "text/plain": [
       "1      quando eu estiver comprando o iphone 11 pro ma...\n",
       "2           não consegui comprar o iphone 11imagina o 14\n",
       "3      graças a deus vou compra meu iphone 11 pro max  🤩\n",
       "4      gente qual a diferença pro iphone 11 kkkkkkkk ...\n",
       "7      @ginghinni7 @conservadorarv melhor do que comp...\n",
       "                             ...                        \n",
       "492    rt @juh_santos14 troco minha amiga por um ipho...\n",
       "493          @rodsal200 um iphone 11 tá mais cara q isso\n",
       "494    contando os dias pra pegar meu iphone 11 😍  😍 ...\n",
       "495    rt @vick_417 e eu que quase comprei o iphone 1...\n",
       "498    @wulfs1ghs ᅟᅟᅟ   ⠀/entrega uma caixa do iphone...\n",
       "Name: Treinamento, Length: 196, dtype: object"
      ]
     },
     "execution_count": 192,
     "metadata": {},
     "output_type": "execute_result"
    }
   ],
   "source": [
    "train_rel_clean = train.loc[train[\"Classificação\"] == 1, 'Treinamento'].apply(cleanup)\n",
    "train_rel_clean"
   ]
  },
  {
   "cell_type": "code",
   "execution_count": 193,
   "metadata": {},
   "outputs": [
    {
     "data": {
      "text/plain": [
       "0          quando\n",
       "1              eu\n",
       "2         estiver\n",
       "3       comprando\n",
       "4               o\n",
       "          ...    \n",
       "3521           um\n",
       "3522          ceo\n",
       "3523        legal\n",
       "3524          ᅟᅟᅟ\n",
       "3525            ⠀\n",
       "Length: 3526, dtype: object"
      ]
     },
     "execution_count": 193,
     "metadata": {},
     "output_type": "execute_result"
    }
   ],
   "source": [
    "train_rel_clean.astype(str)\n",
    "train_rel_lower = train_rel_clean.str.lower()\n",
    "train_rel = train_rel_lower.str.split()\n",
    "\n",
    "\n",
    "train_rel_lista = []\n",
    "\n",
    "for palavras in train_rel:\n",
    "    train_rel_lista += palavras\n",
    "serie_train_rel = pd.Series(train_rel_lista)\n",
    "serie_train_rel"
   ]
  },
  {
   "cell_type": "code",
   "execution_count": 194,
   "metadata": {},
   "outputs": [
    {
     "data": {
      "text/plain": [
       "iphone              215\n",
       "11                  195\n",
       "o                   158\n",
       "um                   91\n",
       "que                  72\n",
       "                   ... \n",
       "estilo                1\n",
       "avisa                 1\n",
       "mãe                   1\n",
       "//tco/wo7xlctlnn      1\n",
       "desapegada            1\n",
       "Length: 1071, dtype: int64"
      ]
     },
     "execution_count": 194,
     "metadata": {},
     "output_type": "execute_result"
    }
   ],
   "source": [
    "serie_train_rel_absoluta = serie_train_rel.value_counts()\n",
    "serie_train_rel_absoluta"
   ]
  },
  {
   "cell_type": "markdown",
   "metadata": {},
   "source": [
    "E dos irrelevantes:"
   ]
  },
  {
   "cell_type": "code",
   "execution_count": 195,
   "metadata": {},
   "outputs": [
    {
     "data": {
      "text/plain": [
       "0      feliz pelo iphone 11 mas o iphone 10 mds é mui...\n",
       "5      fui aí à dois anos quando ofereci um iphone 11...\n",
       "6      gosto muito do conceito do pobre com macbook p...\n",
       "9      @gab_neres ce pedia meu rg pra ir no motel e e...\n",
       "10     apareceu uma msg pro luan no google dizendo qu...\n",
       "                             ...                        \n",
       "490    eu só preciso saber quanto vai valer o iphone ...\n",
       "491    um apoiador das causas da comunidade lgbtq pra...\n",
       "496    e nem vou comentar o “comunistas” e o “anti ca...\n",
       "497    rt @rannasoareez comprei o iphone 11 e aí inve...\n",
       "499    preciso de um telefone novo alguém me dá um ip...\n",
       "Name: Treinamento, Length: 304, dtype: object"
      ]
     },
     "execution_count": 195,
     "metadata": {},
     "output_type": "execute_result"
    }
   ],
   "source": [
    "train_irrel_clean = train.loc[train[\"Classificação\"] == 0, 'Treinamento'].apply(cleanup)\n",
    "train_irrel_clean"
   ]
  },
  {
   "cell_type": "code",
   "execution_count": 196,
   "metadata": {},
   "outputs": [
    {
     "data": {
      "text/plain": [
       "0        feliz\n",
       "1         pelo\n",
       "2       iphone\n",
       "3           11\n",
       "4          mas\n",
       "         ...  \n",
       "6061        um\n",
       "6062    iphone\n",
       "6063        11\n",
       "6064       por\n",
       "6065     favor\n",
       "Length: 6066, dtype: object"
      ]
     },
     "execution_count": 196,
     "metadata": {},
     "output_type": "execute_result"
    }
   ],
   "source": [
    "train_irrel_clean.astype(str)\n",
    "train_irrel_lower = train_irrel_clean.str.lower()\n",
    "train_irrel = train_irrel_lower.str.split()\n",
    "\n",
    "train_irrel_lista = []\n",
    "\n",
    "for palavras in train_irrel:\n",
    "    train_irrel_lista += palavras\n",
    "serie_train_irrel = pd.Series(train_irrel_lista)\n",
    "serie_train_irrel"
   ]
  },
  {
   "cell_type": "code",
   "execution_count": 197,
   "metadata": {},
   "outputs": [
    {
     "data": {
      "text/plain": [
       "iphone          330\n",
       "11              295\n",
       "o               198\n",
       "um              166\n",
       "de              144\n",
       "               ... \n",
       "@leandraaa06      1\n",
       "suggar            1\n",
       "xabila            1\n",
       "ridículo          1\n",
       "viajar            1\n",
       "Length: 1799, dtype: int64"
      ]
     },
     "execution_count": 197,
     "metadata": {},
     "output_type": "execute_result"
    }
   ],
   "source": [
    "serie_train_irrel_absoluta = serie_train_irrel.value_counts()\n",
    "serie_train_irrel_absoluta"
   ]
  },
  {
   "cell_type": "markdown",
   "metadata": {},
   "source": [
    "Criando a lista de palavras dos tweets e fazendo o smoothing:"
   ]
  },
  {
   "cell_type": "code",
   "execution_count": 198,
   "metadata": {},
   "outputs": [
    {
     "data": {
      "text/plain": [
       "9592"
      ]
     },
     "execution_count": 198,
     "metadata": {},
     "output_type": "execute_result"
    }
   ],
   "source": [
    "total_rel_irrel = train_rel_lista + train_irrel_lista\n",
    "qntd_total = len(total_rel_irrel)\n",
    "qntd_total"
   ]
  },
  {
   "cell_type": "code",
   "execution_count": 199,
   "metadata": {},
   "outputs": [],
   "source": [
    "serie_rel_irrel = pd.Series(total_rel_irrel)"
   ]
  },
  {
   "cell_type": "markdown",
   "metadata": {},
   "source": [
    "##### Criando o classificador:\n",
    "\n",
    "Queremos calcular: \n",
    "\n",
    "- $P(relevante|frase)$: probabilidade de a frase ser relevante;\n",
    "- $P(irrelevante|frase)$: probabilidade de a frase ser irrelevante;\n",
    "\n",
    "A fórmula de Bayes é a seguinte:\n",
    "\n",
    "$$P(relevante|frase) = \\frac{P(frase|relevante) P(relevante)}{P(frase)}$$\n",
    "\n",
    "Ela é análoga para os tweets irrelevantes, trocando tudo que é relevante por irrelevante.\n",
    "\n",
    "Para calcularmos essa probabilidade, é necessário chegar nas seguintes informações:\n",
    "\n",
    "- $P(frase|relevante)$: probabilidade da frase dado que é relevante;\n",
    "- $P(frase|irrelevante)$: probabilidade da frase dado que é irrelevante;\n",
    "- $P(relevante)$: probabilidade de ser relevante;\n",
    "- $P(irrelevante)$: probabilidade de ser irrelevante;\n",
    "- $P(frase)$: probabilidade de uma frase ocorrer na língua portuguesa."
   ]
  },
  {
   "cell_type": "code",
   "execution_count": 200,
   "metadata": {},
   "outputs": [],
   "source": [
    "#definindo o alfa e o V \n",
    "alfa = 0.8\n",
    "V = 400000"
   ]
  },
  {
   "cell_type": "code",
   "execution_count": 201,
   "metadata": {},
   "outputs": [],
   "source": [
    "#total de tweets relevantes e irrelevantes\n",
    "total_relevante = len(serie_train_rel_absoluta) + (alfa*V)\n",
    "total_irrelevante = len(serie_train_irrel_absoluta) + (alfa*V)"
   ]
  },
  {
   "cell_type": "code",
   "execution_count": 202,
   "metadata": {},
   "outputs": [],
   "source": [
    "#total de palavras\n",
    "total_p = (serie_train_rel_absoluta.sum() + serie_train_irrel_absoluta.sum())"
   ]
  },
  {
   "cell_type": "code",
   "execution_count": 203,
   "metadata": {},
   "outputs": [],
   "source": [
    "#Probabilidade de ser relevante ou irrelevante\n",
    "prob_rel = serie_train_rel_absoluta.sum() / total_p\n",
    "prob_irrel = serie_train_irrel_absoluta.sum()/ total_p"
   ]
  },
  {
   "cell_type": "code",
   "execution_count": 204,
   "metadata": {},
   "outputs": [],
   "source": [
    "def classificador(tweet, planilha): #Função do classificador\n",
    "    \n",
    "    prob_tt_rel = 1.0 #probabilidade do tweet dado que ele é relevante\n",
    "    prob_tt_irrel = 1.0 #probabilidade do tweet dado que ele é irrelevante\n",
    "    cnt = 0\n",
    "    \n",
    "    for tt in tweet:\n",
    "        for palavra in tweet:\n",
    "            \n",
    "            if palavra in serie_train_rel_absoluta:\n",
    "                prob_palavra_dado_rel = (train_rel_absoluta[palavra] + alfa)/ total_relevante\n",
    "                prob_tt_dado_rel += log10(prob_palavra_dado_rel)\n",
    "            else: \n",
    "                prob_palavra_dado_rel = alfa / total_relevante\n",
    "                prob_tt_rel += log10(prob_palavra_dado_rel)\n",
    "                \n",
    "            if palavra in serie_train_irrel_absoluta:\n",
    "                prob_palavra_dado_irrel = (train_rel_absoluta[palavra] + alfa)/ total_irrelevante\n",
    "                prob_tt_dado_irrel += log10(prob_palavra_dado_irrel)\n",
    "            else:\n",
    "                prob_palavra_dado_irrel = alfa / total_irrelevante\n",
    "                prob_tt_irrel += log10(prob_palavra_dado_irrel)\n",
    "                \n",
    "    prob_rel_dado_tt = prob_tt_rel + log10(prob_rel)\n",
    "    prob_irrel_dado_tt = prob_tt_irrel + log10(prob_irrel)\n",
    "    \n",
    "    if prob_rel_dado_tt > prob_irrel_dado_tt:\n",
    "        planilha.iloc[cnt,2] = 1\n",
    "    elif prob_rel_dado_tt < prob_irrel_dado_tt:\n",
    "        planilha.iloc[cnt,2] = 0\n",
    "        \n",
    "    cnt +=1\n",
    "    prob_tt_rel = 1.0 #probabilidade do tweet dado que ele é relevante\n",
    "    prob_tt_irrel = 1.0 #probabilidade do tweet dado que ele é irrelevante    "
   ]
  },
  {
   "cell_type": "markdown",
   "metadata": {},
   "source": [
    "___\n",
    "### Verificando a performance do Classificador\n",
    "\n",
    "Agora você deve testar o seu classificador com a base de Testes."
   ]
  },
  {
   "cell_type": "markdown",
   "metadata": {},
   "source": [
    "Limpando e pegando as frequências relativas e absolutas dos tweets relevantes:"
   ]
  },
  {
   "cell_type": "code",
   "execution_count": 205,
   "metadata": {},
   "outputs": [],
   "source": [
    "train_tts = []\n",
    "train_cleaner = train['Treinamento'].apply(cleanup)"
   ]
  },
  {
   "cell_type": "code",
   "execution_count": 206,
   "metadata": {},
   "outputs": [],
   "source": [
    "for tt in train_cleaner:\n",
    "    train_tts.append(tt)"
   ]
  },
  {
   "cell_type": "code",
   "execution_count": 207,
   "metadata": {},
   "outputs": [],
   "source": [
    "train['Classificador'] = 0"
   ]
  },
  {
   "cell_type": "code",
   "execution_count": 208,
   "metadata": {},
   "outputs": [],
   "source": [
    "classificador(train_tts, train)"
   ]
  },
  {
   "cell_type": "code",
   "execution_count": 218,
   "metadata": {},
   "outputs": [
    {
     "data": {
      "text/html": [
       "<div>\n",
       "<style scoped>\n",
       "    .dataframe tbody tr th:only-of-type {\n",
       "        vertical-align: middle;\n",
       "    }\n",
       "\n",
       "    .dataframe tbody tr th {\n",
       "        vertical-align: top;\n",
       "    }\n",
       "\n",
       "    .dataframe thead th {\n",
       "        text-align: right;\n",
       "    }\n",
       "</style>\n",
       "<table border=\"1\" class=\"dataframe\">\n",
       "  <thead>\n",
       "    <tr style=\"text-align: right;\">\n",
       "      <th></th>\n",
       "      <th>Treinamento</th>\n",
       "      <th>Classificação</th>\n",
       "      <th>Classificador</th>\n",
       "    </tr>\n",
       "  </thead>\n",
       "  <tbody>\n",
       "    <tr>\n",
       "      <td>0</td>\n",
       "      <td>feliz pelo iphone 11 mas o iphone 10 mds é mui...</td>\n",
       "      <td>0</td>\n",
       "      <td>1</td>\n",
       "    </tr>\n",
       "    <tr>\n",
       "      <td>1</td>\n",
       "      <td>quando eu estiver comprando o iphone 11 pro ma...</td>\n",
       "      <td>1</td>\n",
       "      <td>0</td>\n",
       "    </tr>\n",
       "    <tr>\n",
       "      <td>2</td>\n",
       "      <td>não consegui comprar o iphone 11,imagina o 14</td>\n",
       "      <td>1</td>\n",
       "      <td>0</td>\n",
       "    </tr>\n",
       "    <tr>\n",
       "      <td>3</td>\n",
       "      <td>graças a deus vou compra meu iphone 11 pro max 🤩</td>\n",
       "      <td>1</td>\n",
       "      <td>0</td>\n",
       "    </tr>\n",
       "    <tr>\n",
       "      <td>4</td>\n",
       "      <td>gente, qual a diferença pro iphone 11? kkkkkkk...</td>\n",
       "      <td>1</td>\n",
       "      <td>0</td>\n",
       "    </tr>\n",
       "    <tr>\n",
       "      <td>...</td>\n",
       "      <td>...</td>\n",
       "      <td>...</td>\n",
       "      <td>...</td>\n",
       "    </tr>\n",
       "    <tr>\n",
       "      <td>495</td>\n",
       "      <td>rt @vick_417: e eu que quase comprei o iphone ...</td>\n",
       "      <td>1</td>\n",
       "      <td>0</td>\n",
       "    </tr>\n",
       "    <tr>\n",
       "      <td>496</td>\n",
       "      <td>e nem vou comentar o “comunistas” e o “anti ca...</td>\n",
       "      <td>0</td>\n",
       "      <td>0</td>\n",
       "    </tr>\n",
       "    <tr>\n",
       "      <td>497</td>\n",
       "      <td>rt @rannasoareez: comprei o iphone 11 e aí inv...</td>\n",
       "      <td>0</td>\n",
       "      <td>0</td>\n",
       "    </tr>\n",
       "    <tr>\n",
       "      <td>498</td>\n",
       "      <td>@wulfs1ghs ᅟᅟᅟ   ⠀\\n/entrega uma caixa do ipho...</td>\n",
       "      <td>1</td>\n",
       "      <td>0</td>\n",
       "    </tr>\n",
       "    <tr>\n",
       "      <td>499</td>\n",
       "      <td>preciso de um telefone novo, alguém me dá um i...</td>\n",
       "      <td>0</td>\n",
       "      <td>0</td>\n",
       "    </tr>\n",
       "  </tbody>\n",
       "</table>\n",
       "<p>500 rows × 3 columns</p>\n",
       "</div>"
      ],
      "text/plain": [
       "                                           Treinamento  Classificação  \\\n",
       "0    feliz pelo iphone 11 mas o iphone 10 mds é mui...              0   \n",
       "1    quando eu estiver comprando o iphone 11 pro ma...              1   \n",
       "2        não consegui comprar o iphone 11,imagina o 14              1   \n",
       "3     graças a deus vou compra meu iphone 11 pro max 🤩              1   \n",
       "4    gente, qual a diferença pro iphone 11? kkkkkkk...              1   \n",
       "..                                                 ...            ...   \n",
       "495  rt @vick_417: e eu que quase comprei o iphone ...              1   \n",
       "496  e nem vou comentar o “comunistas” e o “anti ca...              0   \n",
       "497  rt @rannasoareez: comprei o iphone 11 e aí inv...              0   \n",
       "498  @wulfs1ghs ᅟᅟᅟ   ⠀\\n/entrega uma caixa do ipho...              1   \n",
       "499  preciso de um telefone novo, alguém me dá um i...              0   \n",
       "\n",
       "     Classificador  \n",
       "0                1  \n",
       "1                0  \n",
       "2                0  \n",
       "3                0  \n",
       "4                0  \n",
       "..             ...  \n",
       "495              0  \n",
       "496              0  \n",
       "497              0  \n",
       "498              0  \n",
       "499              0  \n",
       "\n",
       "[500 rows x 3 columns]"
      ]
     },
     "execution_count": 218,
     "metadata": {},
     "output_type": "execute_result"
    }
   ],
   "source": [
    "train"
   ]
  },
  {
   "cell_type": "code",
   "execution_count": 220,
   "metadata": {},
   "outputs": [
    {
     "data": {
      "text/html": [
       "<div>\n",
       "<style scoped>\n",
       "    .dataframe tbody tr th:only-of-type {\n",
       "        vertical-align: middle;\n",
       "    }\n",
       "\n",
       "    .dataframe tbody tr th {\n",
       "        vertical-align: top;\n",
       "    }\n",
       "\n",
       "    .dataframe thead th {\n",
       "        text-align: right;\n",
       "    }\n",
       "</style>\n",
       "<table border=\"1\" class=\"dataframe\">\n",
       "  <thead>\n",
       "    <tr style=\"text-align: right;\">\n",
       "      <th>Classificador</th>\n",
       "      <th>0</th>\n",
       "      <th>1</th>\n",
       "    </tr>\n",
       "    <tr>\n",
       "      <th>Classificação</th>\n",
       "      <th></th>\n",
       "      <th></th>\n",
       "    </tr>\n",
       "  </thead>\n",
       "  <tbody>\n",
       "    <tr>\n",
       "      <td>0</td>\n",
       "      <td>0.606</td>\n",
       "      <td>0.002</td>\n",
       "    </tr>\n",
       "    <tr>\n",
       "      <td>1</td>\n",
       "      <td>0.392</td>\n",
       "      <td>0.000</td>\n",
       "    </tr>\n",
       "  </tbody>\n",
       "</table>\n",
       "</div>"
      ],
      "text/plain": [
       "Classificador      0      1\n",
       "Classificação              \n",
       "0              0.606  0.002\n",
       "1              0.392  0.000"
      ]
     },
     "execution_count": 220,
     "metadata": {},
     "output_type": "execute_result"
    }
   ],
   "source": [
    "pd.crosstab(train['Classificação'],train['Classificador'],normalize = 'all')"
   ]
  },
  {
   "cell_type": "markdown",
   "metadata": {},
   "source": [
    "## !!\n"
   ]
  },
  {
   "cell_type": "code",
   "execution_count": 210,
   "metadata": {},
   "outputs": [
    {
     "data": {
      "text/plain": [
       "4      é meus amigos que fase troquei gramado por um ...\n",
       "5      meu pai comprou um iphone 11 e eu ainda achei ...\n",
       "7               vou pegar o iphone 11 final do ano  😍  😍\n",
       "10     a apple já criou o iphone 12 enquanto eu acabe...\n",
       "12     eu babava pelo carregador turbo do motorola ma...\n",
       "                             ...                        \n",
       "223    rt @fernandavsntss eu to muito triste e soment...\n",
       "225      deixem me ter iphone 11 vão ver só snaps a cair\n",
       "229    @renatinhapoqui n consigo fazer meu ead pq meu...\n",
       "234    bateria do iphone 11 é tudooo ainda nem carreg...\n",
       "237                        @_ilipe quero um iphone 11  🤔\n",
       "Name: Teste, Length: 89, dtype: object"
      ]
     },
     "execution_count": 210,
     "metadata": {},
     "output_type": "execute_result"
    }
   ],
   "source": [
    "teste_rel_clean = test.loc[test[\"Relevância\"] == 1, 'Teste'].apply(cleanup)\n",
    "teste_rel_clean"
   ]
  },
  {
   "cell_type": "code",
   "execution_count": 211,
   "metadata": {},
   "outputs": [
    {
     "data": {
      "text/plain": [
       "0            é\n",
       "1         meus\n",
       "2       amigos\n",
       "3          que\n",
       "4         fase\n",
       "         ...  \n",
       "1481     quero\n",
       "1482        um\n",
       "1483    iphone\n",
       "1484        11\n",
       "1485         🤔\n",
       "Length: 1486, dtype: object"
      ]
     },
     "execution_count": 211,
     "metadata": {},
     "output_type": "execute_result"
    }
   ],
   "source": [
    "teste_rel_clean.astype(str)\n",
    "teste_rel_lower = teste_rel_clean.str.lower()\n",
    "teste_rel = teste_rel_lower.str.split()\n",
    "\n",
    "\n",
    "teste_rel_lista = []\n",
    "\n",
    "for palavras in teste_rel:\n",
    "    teste_rel_lista += palavras\n",
    "serie_teste_rel = pd.Series(teste_rel_lista)\n",
    "serie_teste_rel"
   ]
  },
  {
   "cell_type": "code",
   "execution_count": 212,
   "metadata": {},
   "outputs": [
    {
     "data": {
      "text/plain": [
       "iphone          92\n",
       "11              90\n",
       "o               67\n",
       "um              45\n",
       "do              28\n",
       "                ..\n",
       "praticamente     1\n",
       "@icarofernan     1\n",
       "facilmente       1\n",
       "triste           1\n",
       "bonito           1\n",
       "Length: 557, dtype: int64"
      ]
     },
     "execution_count": 212,
     "metadata": {},
     "output_type": "execute_result"
    }
   ],
   "source": [
    "serie_teste_rel_absoluta = serie_teste_rel.value_counts()\n",
    "serie_teste_rel_absoluta"
   ]
  },
  {
   "cell_type": "code",
   "execution_count": 213,
   "metadata": {},
   "outputs": [
    {
     "data": {
      "text/plain": [
       "iphone              0.060976\n",
       "11                  0.055303\n",
       "o                   0.044810\n",
       "um                  0.025808\n",
       "que                 0.020420\n",
       "                      ...   \n",
       "estilo              0.000284\n",
       "avisa               0.000284\n",
       "mãe                 0.000284\n",
       "//tco/wo7xlctlnn    0.000284\n",
       "desapegada          0.000284\n",
       "Length: 1071, dtype: float64"
      ]
     },
     "execution_count": 213,
     "metadata": {},
     "output_type": "execute_result"
    }
   ],
   "source": [
    "serie_teste_rel_relativa = serie_train_rel.value_counts(True)\n",
    "serie_teste_rel_relativa"
   ]
  },
  {
   "cell_type": "markdown",
   "metadata": {},
   "source": [
    "E dos irrelevantes:"
   ]
  },
  {
   "cell_type": "code",
   "execution_count": 214,
   "metadata": {},
   "outputs": [
    {
     "data": {
      "text/plain": [
       "0      @hyzerfps iphone 11 = fogao de 3 bocasiphone 1...\n",
       "1      @sirmaykon @uourah kkkkkkkkkkkkkkkkkkkkkk tem ...\n",
       "2      @cnnbrbusiness @cnnbrasil por isso o mundo tá ...\n",
       "3      rt @k3viyn appleevent esperando o iphone 12 la...\n",
       "6                                 era só um iphone 11  🤧\n",
       "                             ...                        \n",
       "231    eu nunca me esqueço do dia q fui tapeada num s...\n",
       "232                 ganhar um iphone 11 //tco/coxrl1zkza\n",
       "233    rezando pra que tenha chegado película pro iph...\n",
       "235    o candidato de igt bancando o populista matuto...\n",
       "236    @junior_onda vamos pegar o iphone 11 do nosso ...\n",
       "Name: Teste, Length: 149, dtype: object"
      ]
     },
     "execution_count": 214,
     "metadata": {},
     "output_type": "execute_result"
    }
   ],
   "source": [
    "teste_irrel_clean = test.loc[test[\"Relevância\"] == 0, 'Teste'].apply(cleanup)\n",
    "teste_irrel_clean"
   ]
  },
  {
   "cell_type": "code",
   "execution_count": 215,
   "metadata": {},
   "outputs": [
    {
     "data": {
      "text/plain": [
       "0                 @hyzerfps\n",
       "1                    iphone\n",
       "2                        11\n",
       "3                         =\n",
       "4                     fogao\n",
       "               ...         \n",
       "2780                     do\n",
       "2781                  nosso\n",
       "2782               parceiro\n",
       "2783       @brendonricardo2\n",
       "2784    kkkkkkkkkkkkkkkkkkk\n",
       "Length: 2785, dtype: object"
      ]
     },
     "execution_count": 215,
     "metadata": {},
     "output_type": "execute_result"
    }
   ],
   "source": [
    "teste_irrel_clean.astype(str)\n",
    "teste_irrel_lower = teste_irrel_clean.str.lower()\n",
    "teste_irrel = teste_irrel_lower.str.split()\n",
    "\n",
    "\n",
    "teste_irrel_lista = []\n",
    "\n",
    "for palavras in teste_irrel:\n",
    "    teste_irrel_lista += palavras\n",
    "serie_teste_irrel = pd.Series(teste_irrel_lista)\n",
    "serie_teste_irrel"
   ]
  },
  {
   "cell_type": "code",
   "execution_count": 216,
   "metadata": {},
   "outputs": [
    {
     "data": {
      "text/plain": [
       "iphone              164\n",
       "11                  146\n",
       "o                    91\n",
       "e                    57\n",
       "que                  57\n",
       "                   ... \n",
       "maid                  1\n",
       "dps                   1\n",
       "@j3ipy                1\n",
       "@foxsportsbrasil      1\n",
       "dona                  1\n",
       "Length: 983, dtype: int64"
      ]
     },
     "execution_count": 216,
     "metadata": {},
     "output_type": "execute_result"
    }
   ],
   "source": [
    "serie_teste_irrel_absoluta = serie_teste_irrel.value_counts()\n",
    "serie_teste_irrel_absoluta"
   ]
  },
  {
   "cell_type": "code",
   "execution_count": 217,
   "metadata": {},
   "outputs": [
    {
     "data": {
      "text/plain": [
       "iphone         0.059257\n",
       "11             0.050552\n",
       "o              0.033646\n",
       "um             0.027787\n",
       "de             0.024104\n",
       "                 ...   \n",
       "pegando        0.000167\n",
       "braçadeiras    0.000167\n",
       "humildade      0.000167\n",
       "bravo          0.000167\n",
       "puder          0.000167\n",
       "Length: 1750, dtype: float64"
      ]
     },
     "execution_count": 217,
     "metadata": {},
     "output_type": "execute_result"
    }
   ],
   "source": [
    "serie_teste_irrelevante_relativa = serie_train_irrelevante.value_counts(True)\n",
    "serie_teste_irrelevante_relativa"
   ]
  },
  {
   "cell_type": "markdown",
   "metadata": {},
   "source": [
    "*Implementando o Classificador*"
   ]
  },
  {
   "cell_type": "code",
   "execution_count": null,
   "metadata": {},
   "outputs": [],
   "source": []
  },
  {
   "cell_type": "markdown",
   "metadata": {},
   "source": [
    "___\n",
    "### Concluindo"
   ]
  },
  {
   "cell_type": "code",
   "execution_count": null,
   "metadata": {},
   "outputs": [],
   "source": []
  },
  {
   "cell_type": "code",
   "execution_count": null,
   "metadata": {},
   "outputs": [],
   "source": []
  },
  {
   "cell_type": "markdown",
   "metadata": {},
   "source": [
    "___\n",
    "## Aperfeiçoamento:\n",
    "\n",
    "Os trabalhos vão evoluir em conceito dependendo da quantidade de itens avançados:\n",
    "\n",
    "* Limpar: \\n, :, \", ', (, ), etc SEM remover emojis\n",
    "* Corrigir separação de espaços entre palavras e emojis ou entre emojis e emojis\n",
    "* Propor outras limpezas e transformações que não afetem a qualidade da informação ou classificação\n",
    "* Criar categorias intermediárias de relevância baseadas na probabilidade: ex.: muito relevante, relevante, neutro, irrelevante, muito irrelevante (3 categorias: C, mais categorias conta para B)\n",
    "* Explicar por que não posso usar o próprio classificador para gerar mais amostras de treinamento\n",
    "* Propor diferentes cenários para Naïve Bayes fora do contexto do projeto\n",
    "* Sugerir e explicar melhorias reais com indicações concretas de como implementar (indicar como fazer e indicar material de pesquisa)\n",
    "* Montar um dashboard que realiza análise de sentimento e visualiza estes dados"
   ]
  },
  {
   "cell_type": "markdown",
   "metadata": {},
   "source": [
    "___\n",
    "## Referências"
   ]
  },
  {
   "cell_type": "markdown",
   "metadata": {},
   "source": [
    "[Naive Bayes and Text Classification](https://arxiv.org/pdf/1410.5329.pdf)  **Mais completo**\n",
    "\n",
    "[A practical explanation of a Naive Bayes Classifier](https://monkeylearn.com/blog/practical-explanation-naive-bayes-classifier/) **Mais simples**"
   ]
  },
  {
   "cell_type": "code",
   "execution_count": null,
   "metadata": {},
   "outputs": [],
   "source": []
  }
 ],
 "metadata": {
  "kernelspec": {
   "display_name": "Python 3",
   "language": "python",
   "name": "python3"
  },
  "language_info": {
   "codemirror_mode": {
    "name": "ipython",
    "version": 3
   },
   "file_extension": ".py",
   "mimetype": "text/x-python",
   "name": "python",
   "nbconvert_exporter": "python",
   "pygments_lexer": "ipython3",
   "version": "3.7.4"
  }
 },
 "nbformat": 4,
 "nbformat_minor": 4
}
