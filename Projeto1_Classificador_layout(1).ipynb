{
 "cells": [
  {
   "cell_type": "markdown",
   "metadata": {},
   "source": [
    "# Projeto 1 - Ciência dos Dados"
   ]
  },
  {
   "cell_type": "markdown",
   "metadata": {},
   "source": [
    "Nome: Ralph Michaan\n",
    "\n",
    "Nome: Fábio Ferreira"
   ]
  },
  {
   "cell_type": "markdown",
   "metadata": {},
   "source": [
    "**Atenção:** Serão permitidos grupos de três pessoas, mas com uma rubrica mais exigente. Grupos deste tamanho precisarão fazer um questionário de avaliação de trabalho em equipe"
   ]
  },
  {
   "cell_type": "markdown",
   "metadata": {},
   "source": [
    "___\n",
    "Carregando algumas bibliotecas:"
   ]
  },
  {
   "cell_type": "code",
   "execution_count": 1,
   "metadata": {},
   "outputs": [],
   "source": [
    "%matplotlib inline\n",
    "import pandas as pd\n",
    "import matplotlib.pyplot as plt\n",
    "import numpy as np\n",
    "import os"
   ]
  },
  {
   "cell_type": "markdown",
   "metadata": {},
   "source": [
    "**Em `filename`, coloque o nome do seu arquivo de dados!**"
   ]
  },
  {
   "cell_type": "code",
   "execution_count": 2,
   "metadata": {
    "scrolled": false
   },
   "outputs": [
    {
     "name": "stdout",
     "output_type": "stream",
     "text": [
      "Encontrei o arquivo iPhone.xlsx, tudo certo para prosseguir com a prova!\n"
     ]
    }
   ],
   "source": [
    "import os\n",
    "\n",
    "filename = 'iPhone.xlsx'\n",
    "if filename in os.listdir():\n",
    "    print(f'Encontrei o arquivo {filename}, tudo certo para prosseguir com a prova!')\n",
    "else:\n",
    "    print(f'Não encontrei o arquivo {filename} aqui no diretório {os.getcwd()}, será que você não baixou o arquivo?')"
   ]
  },
  {
   "cell_type": "markdown",
   "metadata": {},
   "source": [
    "Carregando a base de dados com os tweets classificados como relevantes e não relevantes:"
   ]
  },
  {
   "cell_type": "code",
   "execution_count": 3,
   "metadata": {},
   "outputs": [
    {
     "data": {
      "text/html": [
       "<div>\n",
       "<style scoped>\n",
       "    .dataframe tbody tr th:only-of-type {\n",
       "        vertical-align: middle;\n",
       "    }\n",
       "\n",
       "    .dataframe tbody tr th {\n",
       "        vertical-align: top;\n",
       "    }\n",
       "\n",
       "    .dataframe thead th {\n",
       "        text-align: right;\n",
       "    }\n",
       "</style>\n",
       "<table border=\"1\" class=\"dataframe\">\n",
       "  <thead>\n",
       "    <tr style=\"text-align: right;\">\n",
       "      <th></th>\n",
       "      <th>Treinamento</th>\n",
       "      <th>Classificação</th>\n",
       "    </tr>\n",
       "  </thead>\n",
       "  <tbody>\n",
       "    <tr>\n",
       "      <th>0</th>\n",
       "      <td>feliz pelo iphone 11 mas o iphone 10 mds é mui...</td>\n",
       "      <td>0</td>\n",
       "    </tr>\n",
       "    <tr>\n",
       "      <th>1</th>\n",
       "      <td>quando eu estiver comprando o iphone 11 pro ma...</td>\n",
       "      <td>1</td>\n",
       "    </tr>\n",
       "    <tr>\n",
       "      <th>2</th>\n",
       "      <td>não consegui comprar o iphone 11,imagina o 14</td>\n",
       "      <td>1</td>\n",
       "    </tr>\n",
       "    <tr>\n",
       "      <th>3</th>\n",
       "      <td>graças a deus vou compra meu iphone 11 pro max 🤩</td>\n",
       "      <td>1</td>\n",
       "    </tr>\n",
       "    <tr>\n",
       "      <th>4</th>\n",
       "      <td>gente, qual a diferença pro iphone 11? kkkkkkk...</td>\n",
       "      <td>1</td>\n",
       "    </tr>\n",
       "  </tbody>\n",
       "</table>\n",
       "</div>"
      ],
      "text/plain": [
       "                                         Treinamento  Classificação\n",
       "0  feliz pelo iphone 11 mas o iphone 10 mds é mui...              0\n",
       "1  quando eu estiver comprando o iphone 11 pro ma...              1\n",
       "2      não consegui comprar o iphone 11,imagina o 14              1\n",
       "3   graças a deus vou compra meu iphone 11 pro max 🤩              1\n",
       "4  gente, qual a diferença pro iphone 11? kkkkkkk...              1"
      ]
     },
     "execution_count": 3,
     "metadata": {},
     "output_type": "execute_result"
    }
   ],
   "source": [
    "train = pd.read_excel(filename, sheet_name = 'Treinamento')\n",
    "train.head(5)"
   ]
  },
  {
   "cell_type": "code",
   "execution_count": 4,
   "metadata": {},
   "outputs": [
    {
     "data": {
      "text/html": [
       "<div>\n",
       "<style scoped>\n",
       "    .dataframe tbody tr th:only-of-type {\n",
       "        vertical-align: middle;\n",
       "    }\n",
       "\n",
       "    .dataframe tbody tr th {\n",
       "        vertical-align: top;\n",
       "    }\n",
       "\n",
       "    .dataframe thead th {\n",
       "        text-align: right;\n",
       "    }\n",
       "</style>\n",
       "<table border=\"1\" class=\"dataframe\">\n",
       "  <thead>\n",
       "    <tr style=\"text-align: right;\">\n",
       "      <th></th>\n",
       "      <th>Teste</th>\n",
       "      <th>Relevância</th>\n",
       "    </tr>\n",
       "  </thead>\n",
       "  <tbody>\n",
       "    <tr>\n",
       "      <th>0</th>\n",
       "      <td>@hyzerfps iphone 11 = fogao de 3 bocas\\niphone...</td>\n",
       "      <td>0</td>\n",
       "    </tr>\n",
       "    <tr>\n",
       "      <th>1</th>\n",
       "      <td>@sirmaykon @uourah kkkkkkkkkkkkkkkkkkkkkk tem ...</td>\n",
       "      <td>0</td>\n",
       "    </tr>\n",
       "    <tr>\n",
       "      <th>2</th>\n",
       "      <td>@cnnbrbusiness @cnnbrasil por isso o mundo tá ...</td>\n",
       "      <td>0</td>\n",
       "    </tr>\n",
       "    <tr>\n",
       "      <th>3</th>\n",
       "      <td>rt @k3viyn: #appleevent esperando o iphone 12 ...</td>\n",
       "      <td>0</td>\n",
       "    </tr>\n",
       "    <tr>\n",
       "      <th>4</th>\n",
       "      <td>é meus amigos, que fase! troquei gramado por u...</td>\n",
       "      <td>1</td>\n",
       "    </tr>\n",
       "  </tbody>\n",
       "</table>\n",
       "</div>"
      ],
      "text/plain": [
       "                                               Teste  Relevância\n",
       "0  @hyzerfps iphone 11 = fogao de 3 bocas\\niphone...           0\n",
       "1  @sirmaykon @uourah kkkkkkkkkkkkkkkkkkkkkk tem ...           0\n",
       "2  @cnnbrbusiness @cnnbrasil por isso o mundo tá ...           0\n",
       "3  rt @k3viyn: #appleevent esperando o iphone 12 ...           0\n",
       "4  é meus amigos, que fase! troquei gramado por u...           1"
      ]
     },
     "execution_count": 4,
     "metadata": {},
     "output_type": "execute_result"
    }
   ],
   "source": [
    "test = pd.read_excel(filename, sheet_name = 'Teste')\n",
    "test.head(5)"
   ]
  },
  {
   "cell_type": "markdown",
   "metadata": {},
   "source": [
    "___\n",
    "## Classificador automático de sentimento\n"
   ]
  },
  {
   "cell_type": "markdown",
   "metadata": {},
   "source": [
    "Faça aqui uma descrição do seu produto e o que considerou como relevante ou não relevante na classificação dos tweets.\n",
    "\n",
    "Nosso produto é um smartphone da Apple, lançado em setembro de 2019, por um preço um pouco mais baixo que suas variantes mais parrudas.\n",
    "\n",
    "Consideramos relevante os tweets em que havia algum feedback sobre o produto, ou se a pessoa tinha vontade de ter, já os desconsiderados foram as piadas feitas com o valor, e os tweets que não se tratavam do iPhone 11 propriamente dito."
   ]
  },
  {
   "cell_type": "markdown",
   "metadata": {},
   "source": [
    "___\n",
    "### Montando um Classificador Naive-Bayes\n",
    "\n",
    "Considerando apenas as mensagens da planilha Treinamento, ensine  seu classificador."
   ]
  },
  {
   "cell_type": "markdown",
   "metadata": {},
   "source": [
    "Limpando os tweets e pegando as frequências absolutas e relativas:"
   ]
  },
  {
   "cell_type": "code",
   "execution_count": 5,
   "metadata": {},
   "outputs": [],
   "source": [
    "import re\n",
    "\n",
    "def cleanup(text):\n",
    "    \"\"\"\n",
    "        Função de limpeza muito simples que troca alguns sinais básicos por espaços\n",
    "    \"\"\"\n",
    "    #import string\n",
    "    punctuation = '[!-.:?;]' # Note que os sinais [] são delimitadores de um conjunto.\n",
    "    pattern = re.compile(punctuation)\n",
    "    text_subbed = re.sub(pattern, '', text)\n",
    "    return text_subbed"
   ]
  },
  {
   "cell_type": "markdown",
   "metadata": {},
   "source": [
    "Dos tweets relevantes:"
   ]
  },
  {
   "cell_type": "code",
   "execution_count": 6,
   "metadata": {},
   "outputs": [
    {
     "data": {
      "text/plain": [
       "1      quando eu estiver comprando o iphone 11 pro ma...\n",
       "2           não consegui comprar o iphone 11imagina o 14\n",
       "3       graças a deus vou compra meu iphone 11 pro max 🤩\n",
       "4      gente qual a diferença pro iphone 11 kkkkkkkk ...\n",
       "7      @ginghinni7 @conservadorarv melhor do que comp...\n",
       "                             ...                        \n",
       "492    rt @juh_santos14 troco minha amiga por um ipho...\n",
       "493          @rodsal200 um iphone 11 tá mais cara q isso\n",
       "494    contando os dias pra pegar meu iphone 11😍😍😍😍pr...\n",
       "495    rt @vick_417 e eu que quase comprei o iphone 1...\n",
       "498    @wulfs1ghs ᅟᅟᅟ   ⠀\\n/entrega uma caixa do ipho...\n",
       "Name: Treinamento, Length: 196, dtype: object"
      ]
     },
     "execution_count": 6,
     "metadata": {},
     "output_type": "execute_result"
    }
   ],
   "source": [
    "train_relevante_clean = train.loc[train[\"Classificação\"] == 1, 'Treinamento'].apply(cleanup)\n",
    "train_relevante_clean"
   ]
  },
  {
   "cell_type": "code",
   "execution_count": 30,
   "metadata": {},
   "outputs": [
    {
     "data": {
      "text/plain": [
       "0          quando\n",
       "1              eu\n",
       "2         estiver\n",
       "3       comprando\n",
       "4               o\n",
       "          ...    \n",
       "3434           um\n",
       "3435          ceo\n",
       "3436        legal\n",
       "3437          ᅟᅟᅟ\n",
       "3438            ⠀\n",
       "Length: 3439, dtype: object"
      ]
     },
     "execution_count": 30,
     "metadata": {},
     "output_type": "execute_result"
    }
   ],
   "source": [
    "train_relevante_clean.astype(\"string\")\n",
    "train_relevante_lower = train_relevante_clean.str.lower()\n",
    "train_relevante = train_relevante_lower.str.split()\n",
    "\n",
    "\n",
    "train_relevante_lista = []\n",
    "\n",
    "for palavras in train_relevante:\n",
    "    train_relevante_lista += palavras\n",
    "serie_train_relevante = pd.Series(train_relevante_lista)\n",
    "serie_train_relevante"
   ]
  },
  {
   "cell_type": "code",
   "execution_count": 9,
   "metadata": {},
   "outputs": [
    {
     "data": {
      "text/plain": [
       "iphone          216\n",
       "11              194\n",
       "o               159\n",
       "um               92\n",
       "que              72\n",
       "               ... \n",
       "@whindersson      1\n",
       "solo              1\n",
       "estressa          1\n",
       "inventam          1\n",
       "querem            1\n",
       "Length: 1065, dtype: int64"
      ]
     },
     "execution_count": 9,
     "metadata": {},
     "output_type": "execute_result"
    }
   ],
   "source": [
    "serie_train_relevante_absoluta = serie_train_relevante.value_counts()\n",
    "serie_train_relevante_absoluta"
   ]
  },
  {
   "cell_type": "code",
   "execution_count": 11,
   "metadata": {},
   "outputs": [
    {
     "data": {
      "text/plain": [
       "iphone          0.062809\n",
       "11              0.056412\n",
       "o               0.046234\n",
       "um              0.026752\n",
       "que             0.020936\n",
       "                  ...   \n",
       "@whindersson    0.000291\n",
       "solo            0.000291\n",
       "estressa        0.000291\n",
       "inventam        0.000291\n",
       "querem          0.000291\n",
       "Length: 1065, dtype: float64"
      ]
     },
     "execution_count": 11,
     "metadata": {},
     "output_type": "execute_result"
    }
   ],
   "source": [
    "serie_train_relevante_relativa = serie_train_relevante.value_counts(True)\n",
    "serie_train_relevante_relativa"
   ]
  },
  {
   "cell_type": "markdown",
   "metadata": {},
   "source": [
    "E dos irrelevantes:"
   ]
  },
  {
   "cell_type": "code",
   "execution_count": 12,
   "metadata": {},
   "outputs": [
    {
     "data": {
      "text/plain": [
       "0      feliz pelo iphone 11 mas o iphone 10 mds é mui...\n",
       "5      fui aí à dois anos quando ofereci um iphone 11...\n",
       "6      gosto muito do conceito do pobre com macbook p...\n",
       "9      @gab_neres ce pedia meu rg pra ir no motel e e...\n",
       "10     apareceu uma msg pro luan no google dizendo qu...\n",
       "                             ...                        \n",
       "490    eu só preciso saber quanto vai valer o iphone ...\n",
       "491    um apoiador das causas da comunidade lgbtq pra...\n",
       "496    e nem vou comentar o “comunistas” e o “anti ca...\n",
       "497    rt @rannasoareez comprei o iphone 11 e aí inve...\n",
       "499    preciso de um telefone novo alguém me dá um ip...\n",
       "Name: Treinamento, Length: 304, dtype: object"
      ]
     },
     "execution_count": 12,
     "metadata": {},
     "output_type": "execute_result"
    }
   ],
   "source": [
    "train_irrelevante_clean = train.loc[train[\"Classificação\"] == 0, 'Treinamento'].apply(cleanup)\n",
    "train_irrelevante_clean"
   ]
  },
  {
   "cell_type": "code",
   "execution_count": 31,
   "metadata": {},
   "outputs": [
    {
     "data": {
      "text/plain": [
       "0        feliz\n",
       "1         pelo\n",
       "2       iphone\n",
       "3           11\n",
       "4          mas\n",
       "         ...  \n",
       "5969        um\n",
       "5970    iphone\n",
       "5971        11\n",
       "5972       por\n",
       "5973     favor\n",
       "Length: 5974, dtype: object"
      ]
     },
     "execution_count": 31,
     "metadata": {},
     "output_type": "execute_result"
    }
   ],
   "source": [
    "train_irrelevante_clean.astype(\"string\")\n",
    "train_irrelevante_lower = train_irrelevante_clean.str.lower()\n",
    "train_irrelevante = train_irrelevante_lower.str.split()\n",
    "\n",
    "train_irrelevante_lista = []\n",
    "\n",
    "for palavras in train_irrelevante:\n",
    "    train_irrelevante_lista += palavras\n",
    "serie_train_irrelevante = pd.Series(train_irrelevante_lista)\n",
    "serie_train_irrelevante"
   ]
  },
  {
   "cell_type": "code",
   "execution_count": 14,
   "metadata": {},
   "outputs": [
    {
     "data": {
      "text/plain": [
       "iphone                   354\n",
       "11                       302\n",
       "o                        201\n",
       "um                       166\n",
       "de                       144\n",
       "                        ... \n",
       "gastei                     1\n",
       "bglho                      1\n",
       "sul                        1\n",
       "https//tco/au5liicjhm      1\n",
       "travando                   1\n",
       "Length: 1750, dtype: int64"
      ]
     },
     "execution_count": 14,
     "metadata": {},
     "output_type": "execute_result"
    }
   ],
   "source": [
    "train_irrelevante_absoluta = serie_train_irrelevante.value_counts()\n",
    "train_irrelevante_absoluta"
   ]
  },
  {
   "cell_type": "code",
   "execution_count": 15,
   "metadata": {},
   "outputs": [
    {
     "data": {
      "text/plain": [
       "iphone                   0.059257\n",
       "11                       0.050552\n",
       "o                        0.033646\n",
       "um                       0.027787\n",
       "de                       0.024104\n",
       "                           ...   \n",
       "gastei                   0.000167\n",
       "bglho                    0.000167\n",
       "sul                      0.000167\n",
       "https//tco/au5liicjhm    0.000167\n",
       "travando                 0.000167\n",
       "Length: 1750, dtype: float64"
      ]
     },
     "execution_count": 15,
     "metadata": {},
     "output_type": "execute_result"
    }
   ],
   "source": [
    "train_irrelevante_relativa = serie_train_irrelevante.value_counts(True)\n",
    "train_irrelevante_relativa"
   ]
  },
  {
   "cell_type": "markdown",
   "metadata": {},
   "source": [
    "Criando a lista de palavras dos tweets e fazendo o smoothing:"
   ]
  },
  {
   "cell_type": "code",
   "execution_count": 43,
   "metadata": {},
   "outputs": [
    {
     "data": {
      "text/plain": [
       "9413"
      ]
     },
     "execution_count": 43,
     "metadata": {},
     "output_type": "execute_result"
    }
   ],
   "source": [
    "portugues = train_relevante_lista + train_irrelevante_lista\n",
    "qntd_port = len(portugues)\n",
    "qntd_port"
   ]
  },
  {
   "cell_type": "code",
   "execution_count": 18,
   "metadata": {},
   "outputs": [
    {
     "data": {
      "text/plain": [
       "iphone              0.060555\n",
       "11                  0.052693\n",
       "o                   0.038245\n",
       "um                  0.027409\n",
       "de                  0.021460\n",
       "                      ...   \n",
       "@lulucosttaa        0.000106\n",
       "@gabrieldorileo_    0.000106\n",
       "tacar               0.000106\n",
       "vacilo              0.000106\n",
       "🤟🏼                  0.000106\n",
       "Length: 2298, dtype: float64"
      ]
     },
     "execution_count": 18,
     "metadata": {},
     "output_type": "execute_result"
    }
   ],
   "source": [
    "serie_portugues = pd.Series(portugues)\n",
    "portugues_relativa = serie_portugues.value_counts(True)\n",
    "portugues_relativa"
   ]
  },
  {
   "cell_type": "markdown",
   "metadata": {},
   "source": [
    "___\n",
    "### Verificando a performance do Classificador\n",
    "\n",
    "Agora você deve testar o seu classificador com a base de Testes."
   ]
  },
  {
   "cell_type": "markdown",
   "metadata": {},
   "source": [
    "Limpando e pegando as frequências relativas e absolutas dos tweets relevantes:"
   ]
  },
  {
   "cell_type": "code",
   "execution_count": 34,
   "metadata": {},
   "outputs": [
    {
     "data": {
      "text/plain": [
       "4      é meus amigos que fase troquei gramado por um ...\n",
       "5      meu pai comprou um iphone 11 e eu ainda achei ...\n",
       "7                  vou pegar o iphone 11 final do ano 😍😍\n",
       "10     a apple já criou o iphone 12 enquanto eu acabe...\n",
       "12     eu babava pelo carregador turbo do motorola ma...\n",
       "                             ...                        \n",
       "223    rt @fernandavsntss eu to muito triste e soment...\n",
       "225      deixem me ter iphone 11 vão ver só snaps a cair\n",
       "229    @renatinhapoqui n consigo fazer meu ead pq meu...\n",
       "234    bateria do iphone 11 é tudooo ainda nem carreg...\n",
       "237                         @_ilipe quero um iphone 11 🤔\n",
       "Name: Teste, Length: 89, dtype: object"
      ]
     },
     "execution_count": 34,
     "metadata": {},
     "output_type": "execute_result"
    }
   ],
   "source": [
    "teste_relevante_clean = test.loc[test[\"Relevância\"] == 1, 'Teste'].apply(cleanup)\n",
    "teste_relevante_clean"
   ]
  },
  {
   "cell_type": "code",
   "execution_count": 35,
   "metadata": {},
   "outputs": [
    {
     "data": {
      "text/plain": [
       "0            é\n",
       "1         meus\n",
       "2       amigos\n",
       "3          que\n",
       "4         fase\n",
       "         ...  \n",
       "1445     quero\n",
       "1446        um\n",
       "1447    iphone\n",
       "1448        11\n",
       "1449         🤔\n",
       "Length: 1450, dtype: object"
      ]
     },
     "execution_count": 35,
     "metadata": {},
     "output_type": "execute_result"
    }
   ],
   "source": [
    "teste_relevante_clean.astype(\"string\")\n",
    "teste_relevante_lower = teste_relevante_clean.str.lower()\n",
    "teste_relevante = teste_relevante_lower.str.split()\n",
    "\n",
    "\n",
    "teste_relevante_lista = []\n",
    "\n",
    "for palavras in teste_relevante:\n",
    "    teste_relevante_lista += palavras\n",
    "serie_teste_relevante = pd.Series(teste_relevante_lista)\n",
    "serie_teste_relevante"
   ]
  },
  {
   "cell_type": "code",
   "execution_count": 36,
   "metadata": {},
   "outputs": [
    {
     "data": {
      "text/plain": [
       "iphone     92\n",
       "11         90\n",
       "o          67\n",
       "um         47\n",
       "eu         30\n",
       "           ..\n",
       "s20         1\n",
       "🤡🤡          1\n",
       "aquele      1\n",
       "sistema     1\n",
       "deixem      1\n",
       "Length: 547, dtype: int64"
      ]
     },
     "execution_count": 36,
     "metadata": {},
     "output_type": "execute_result"
    }
   ],
   "source": [
    "serie_teste_relevante_absoluta = serie_teste_relevante.value_counts()\n",
    "serie_teste_relevante_absoluta"
   ]
  },
  {
   "cell_type": "code",
   "execution_count": 37,
   "metadata": {},
   "outputs": [
    {
     "data": {
      "text/plain": [
       "iphone          0.062809\n",
       "11              0.056412\n",
       "o               0.046234\n",
       "um              0.026752\n",
       "que             0.020936\n",
       "                  ...   \n",
       "@whindersson    0.000291\n",
       "solo            0.000291\n",
       "estressa        0.000291\n",
       "inventam        0.000291\n",
       "querem          0.000291\n",
       "Length: 1065, dtype: float64"
      ]
     },
     "execution_count": 37,
     "metadata": {},
     "output_type": "execute_result"
    }
   ],
   "source": [
    "serie_teste_relevante_relativa = serie_train_relevante.value_counts(True)\n",
    "serie_teste_relevante_relativa"
   ]
  },
  {
   "cell_type": "markdown",
   "metadata": {},
   "source": [
    "E dos irrelevantes:"
   ]
  },
  {
   "cell_type": "code",
   "execution_count": 38,
   "metadata": {},
   "outputs": [
    {
     "data": {
      "text/plain": [
       "0      @hyzerfps iphone 11 = fogao de 3 bocas\\niphone...\n",
       "1      @sirmaykon @uourah kkkkkkkkkkkkkkkkkkkkkk tem ...\n",
       "2      @cnnbrbusiness @cnnbrasil por isso o mundo tá ...\n",
       "3      rt @k3viyn appleevent esperando o iphone 12 la...\n",
       "6                                  era só um iphone 11 🤧\n",
       "                             ...                        \n",
       "231    eu nunca me esqueço do dia q fui tapeada num s...\n",
       "232            ganhar um iphone 11 https//tco/coxrl1zkza\n",
       "233    rezando pra que tenha chegado película pro iph...\n",
       "235    o candidato de igt bancando o populista matuto...\n",
       "236    @junior_onda vamos pegar o iphone 11 do nosso ...\n",
       "Name: Teste, Length: 149, dtype: object"
      ]
     },
     "execution_count": 38,
     "metadata": {},
     "output_type": "execute_result"
    }
   ],
   "source": [
    "teste_irrelevante_clean = test.loc[test[\"Relevância\"] == 0, 'Teste'].apply(cleanup)\n",
    "teste_irrelevante_clean"
   ]
  },
  {
   "cell_type": "code",
   "execution_count": 39,
   "metadata": {},
   "outputs": [
    {
     "data": {
      "text/plain": [
       "0                 @hyzerfps\n",
       "1                    iphone\n",
       "2                        11\n",
       "3                         =\n",
       "4                     fogao\n",
       "               ...         \n",
       "2762                     do\n",
       "2763                  nosso\n",
       "2764               parceiro\n",
       "2765       @brendonricardo2\n",
       "2766    kkkkkkkkkkkkkkkkkkk\n",
       "Length: 2767, dtype: object"
      ]
     },
     "execution_count": 39,
     "metadata": {},
     "output_type": "execute_result"
    }
   ],
   "source": [
    "teste_irrelevante_clean.astype(\"string\")\n",
    "teste_irrelevante_lower = teste_irrelevante_clean.str.lower()\n",
    "teste_irrelevante = teste_irrelevante_lower.str.split()\n",
    "\n",
    "\n",
    "teste_irrelevante_lista = []\n",
    "\n",
    "for palavras in teste_irrelevante:\n",
    "    teste_irrelevante_lista += palavras\n",
    "serie_teste_irrelevante = pd.Series(teste_irrelevante_lista)\n",
    "serie_teste_irrelevante"
   ]
  },
  {
   "cell_type": "code",
   "execution_count": 40,
   "metadata": {},
   "outputs": [
    {
     "data": {
      "text/plain": [
       "iphone            167\n",
       "11                148\n",
       "o                  91\n",
       "e                  57\n",
       "que                57\n",
       "                 ... \n",
       "vendo               1\n",
       "mac/ipad/watch      1\n",
       "20                  1\n",
       "basta               1\n",
       "f800                1\n",
       "Length: 964, dtype: int64"
      ]
     },
     "execution_count": 40,
     "metadata": {},
     "output_type": "execute_result"
    }
   ],
   "source": [
    "serie_teste_irrelevante_absoluta = serie_teste_irrelevante.value_counts()\n",
    "serie_teste_irrelevante_absoluta"
   ]
  },
  {
   "cell_type": "code",
   "execution_count": 41,
   "metadata": {},
   "outputs": [
    {
     "data": {
      "text/plain": [
       "iphone                   0.059257\n",
       "11                       0.050552\n",
       "o                        0.033646\n",
       "um                       0.027787\n",
       "de                       0.024104\n",
       "                           ...   \n",
       "gastei                   0.000167\n",
       "bglho                    0.000167\n",
       "sul                      0.000167\n",
       "https//tco/au5liicjhm    0.000167\n",
       "travando                 0.000167\n",
       "Length: 1750, dtype: float64"
      ]
     },
     "execution_count": 41,
     "metadata": {},
     "output_type": "execute_result"
    }
   ],
   "source": [
    "serie_teste_irrelevante_relativa = serie_train_irrelevante.value_counts(True)\n",
    "serie_teste_irrelevante_relativa"
   ]
  },
  {
   "cell_type": "markdown",
   "metadata": {},
   "source": [
    "___\n",
    "### Concluindo"
   ]
  },
  {
   "cell_type": "code",
   "execution_count": null,
   "metadata": {},
   "outputs": [],
   "source": []
  },
  {
   "cell_type": "code",
   "execution_count": null,
   "metadata": {},
   "outputs": [],
   "source": []
  },
  {
   "cell_type": "markdown",
   "metadata": {},
   "source": [
    "___\n",
    "## Aperfeiçoamento:\n",
    "\n",
    "Os trabalhos vão evoluir em conceito dependendo da quantidade de itens avançados:\n",
    "\n",
    "* Limpar: \\n, :, \", ', (, ), etc SEM remover emojis\n",
    "* Corrigir separação de espaços entre palavras e emojis ou entre emojis e emojis\n",
    "* Propor outras limpezas e transformações que não afetem a qualidade da informação ou classificação\n",
    "* Criar categorias intermediárias de relevância baseadas na probabilidade: ex.: muito relevante, relevante, neutro, irrelevante, muito irrelevante (3 categorias: C, mais categorias conta para B)\n",
    "* Explicar por que não posso usar o próprio classificador para gerar mais amostras de treinamento\n",
    "* Propor diferentes cenários para Naïve Bayes fora do contexto do projeto\n",
    "* Sugerir e explicar melhorias reais com indicações concretas de como implementar (indicar como fazer e indicar material de pesquisa)\n",
    "* Montar um dashboard que realiza análise de sentimento e visualiza estes dados"
   ]
  },
  {
   "cell_type": "markdown",
   "metadata": {},
   "source": [
    "___\n",
    "## Referências"
   ]
  },
  {
   "cell_type": "markdown",
   "metadata": {},
   "source": [
    "[Naive Bayes and Text Classification](https://arxiv.org/pdf/1410.5329.pdf)  **Mais completo**\n",
    "\n",
    "[A practical explanation of a Naive Bayes Classifier](https://monkeylearn.com/blog/practical-explanation-naive-bayes-classifier/) **Mais simples**"
   ]
  },
  {
   "cell_type": "code",
   "execution_count": null,
   "metadata": {},
   "outputs": [],
   "source": []
  }
 ],
 "metadata": {
  "kernelspec": {
   "display_name": "Python 3",
   "language": "python",
   "name": "python3"
  },
  "language_info": {
   "codemirror_mode": {
    "name": "ipython",
    "version": 3
   },
   "file_extension": ".py",
   "mimetype": "text/x-python",
   "name": "python",
   "nbconvert_exporter": "python",
   "pygments_lexer": "ipython3",
   "version": "3.8.3"
  }
 },
 "nbformat": 4,
 "nbformat_minor": 4
}
